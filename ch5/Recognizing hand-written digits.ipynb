{
 "cells": [
  {
   "cell_type": "markdown",
   "metadata": {},
   "source": [
    "# Recognizing hand-written digits\n",
    "This notebook demonstrates how to use a convolutional neural network for image recognition.\n",
    "We're using the [MNIST dataset](http://yann.lecun.com/exdb/mnist/). \n",
    "\n",
    "You need a specially prepared dataset for this notebook. You can prepare the dataset for this notebook using the notebook \"Prepare the dataset.ipynb\". "
   ]
  },
  {
   "cell_type": "markdown",
   "metadata": {},
   "source": [
    "## The network structure\n",
    "The neural network has two convolution layers and two max-pooling layers mixed together.\n",
    "The output of the neural network is a softmax activated dense layer with 10 neurons. Each for one of the different labels that we can predict with this model."
   ]
  },
  {
   "cell_type": "code",
   "execution_count": 5,
   "metadata": {},
   "outputs": [],
   "source": [
    "from cntk.layers import Convolution2D, Sequential, Dense, MaxPooling\n",
    "from cntk.ops import log_softmax, relu\n",
    "from cntk.initializer import glorot_uniform\n",
    "from cntk import input_variable, default_options\n",
    "\n",
    "features = input_variable((3,28,28))\n",
    "labels = input_variable(10)\n",
    "\n",
    "with default_options(initialization=glorot_uniform, activation=relu):\n",
    "    model = Sequential([\n",
    "        Convolution2D(filter_shape=(5,5), strides=(1,1), num_filters=8, pad=True),\n",
    "        MaxPooling(filter_shape=(2,2), strides=(2,2)),\n",
    "        Convolution2D(filter_shape=(5,5), strides=(1,1), num_filters=16, pad=True),\n",
    "        MaxPooling(filter_shape=(3,3), strides=(3,3)),\n",
    "        Dense(10, activation=log_softmax)\n",
    "    ])\n",
    "\n",
    "z = model(features)"
   ]
  },
  {
   "cell_type": "markdown",
   "metadata": {},
   "source": [
    "The loss for the model is a categorical cross entropy. We're using a `Function` object to combine the loss with a metric to measure the performance of the model. This `criterion_factory` is used to create the objective for the training logic. We're using a SGD learner for this model."
   ]
  },
  {
   "cell_type": "code",
   "execution_count": 6,
   "metadata": {},
   "outputs": [],
   "source": [
    "from cntk import Function\n",
    "from cntk.losses import cross_entropy_with_softmax\n",
    "from cntk.metrics import classification_error\n",
    "from cntk.learners import sgd\n",
    "\n",
    "@Function\n",
    "def criterion_factory(output, targets):\n",
    "    loss = cross_entropy_with_softmax(output, targets)\n",
    "    metric = classification_error(output, targets)\n",
    "    \n",
    "    return loss, metric\n",
    "\n",
    "loss = criterion_factory(z, labels)\n",
    "learner = sgd(z.parameters, lr=0.2)"
   ]
  },
  {
   "cell_type": "markdown",
   "metadata": {},
   "source": [
    "## The data source\n",
    "The data is stored as images on disk with a mapping file that combines the filename of the images with the label for each of the images. We're using random transforms during training to augment the training data in an attempt to improve performance.\n",
    "\n",
    "Note that these transforms are not applied during testing. "
   ]
  },
  {
   "cell_type": "code",
   "execution_count": 7,
   "metadata": {},
   "outputs": [],
   "source": [
    "import os\n",
    "from cntk.io import MinibatchSource, StreamDef, StreamDefs, ImageDeserializer, INFINITELY_REPEAT\n",
    "import cntk.io.transforms as xforms\n",
    "\n",
    "def create_datasource(folder, train=True, max_sweeps=INFINITELY_REPEAT):\n",
    "    mapping_file = os.path.join(folder, 'mapping.bin')\n",
    "    \n",
    "    stream_definitions = StreamDefs(\n",
    "        features=StreamDef(field='image', transforms=[]),\n",
    "        labels=StreamDef(field='label', shape=10)\n",
    "    )\n",
    "    \n",
    "    deserializer = ImageDeserializer(mapping_file, stream_definitions)\n",
    "    \n",
    "    return MinibatchSource(deserializer, max_sweeps=max_sweeps)"
   ]
  },
  {
   "cell_type": "markdown",
   "metadata": {},
   "source": [
    "Training data and testing data is stored in separate folders.\n",
    "You need a separate data source for both."
   ]
  },
  {
   "cell_type": "code",
   "execution_count": 8,
   "metadata": {},
   "outputs": [],
   "source": [
    "train_datasource = create_datasource('mnist_train')\n",
    "test_datasource = create_datasource('mnist_test', max_sweeps=1, train=False)"
   ]
  },
  {
   "cell_type": "markdown",
   "metadata": {},
   "source": [
    "## Training the model\n",
    "The model is trained for one epoch with a batchsize of 64. We've added the progress printer to visualize the output of the training session. We've also included the test set here to validate the performance of the model."
   ]
  },
  {
   "cell_type": "code",
   "execution_count": 9,
   "metadata": {},
   "outputs": [
    {
     "name": "stdout",
     "output_type": "stream",
     "text": [
      " average      since    average      since      examples\n",
      "    loss       last     metric       last              \n",
      " ------------------------------------------------------\n",
      "Learning rate per minibatch: 0.2\n",
      "      170        170      0.938      0.938            64\n",
      " 2.04e+07   3.06e+07      0.901      0.883           192\n",
      " 8.74e+06          4      0.897      0.895           448\n",
      " 4.08e+06          4      0.905      0.912           960\n",
      " 1.97e+06          4      0.896      0.887          1984\n",
      " 9.71e+05          4      0.893      0.891          4032\n",
      " 4.82e+05          4      0.891      0.889          8128\n",
      "  2.4e+05          4       0.89      0.889         16320\n",
      "  1.2e+05          4       0.89       0.89         32704\n",
      "      2.3        2.3      0.891      0.891            64\n",
      "      2.3        2.3      0.885      0.883           192\n",
      "      2.3       2.31        0.9       0.91           448\n",
      "      2.3        2.3      0.893      0.887           960\n",
      "      2.3        2.3      0.886       0.88          1984\n",
      "      2.3        2.3      0.885      0.883          4032\n",
      "      2.3        2.3      0.888      0.892          8128\n",
      "      2.3        2.3      0.888      0.887         16320\n",
      "      2.3        2.3      0.889      0.889         32704\n",
      "     2.29       2.29      0.828      0.828            64\n",
      "      2.3        2.3      0.859      0.875           192\n",
      "      2.3        2.3      0.875      0.887           448\n",
      "      2.3        2.3      0.886      0.896           960\n",
      "      2.3        2.3      0.883       0.88          1984\n",
      "      2.3        2.3      0.885      0.888          4032\n",
      "      2.3        2.3      0.885      0.884          8128\n",
      "      2.3        2.3      0.885      0.886         16320\n",
      "      2.3        2.3      0.889      0.892         32704\n",
      "     2.31       2.31      0.906      0.906            64\n",
      "      2.3        2.3       0.88      0.867           192\n",
      "      2.3        2.3      0.891      0.898           448\n",
      "      2.3        2.3      0.883      0.877           960\n",
      "      2.3        2.3      0.881      0.879          1984\n",
      "      2.3        2.3      0.882      0.884          4032\n",
      "      2.3        2.3      0.891        0.9          8128\n",
      "      2.3        2.3      0.892      0.893         16320\n",
      "      2.3        2.3      0.889      0.885         32704\n"
     ]
    },
    {
     "ename": "KeyboardInterrupt",
     "evalue": "",
     "output_type": "error",
     "traceback": [
      "\u001b[1;31m---------------------------------------------------------------------------\u001b[0m",
      "\u001b[1;31mKeyboardInterrupt\u001b[0m                         Traceback (most recent call last)",
      "\u001b[1;32mc:\\anaconda3\\lib\\site-packages\\cntk\\logging\\progress_print.py\u001b[0m in \u001b[0;36mon_training_update_end\u001b[1;34m(self)\u001b[0m\n\u001b[0;32m    337\u001b[0m         \u001b[0mself\u001b[0m\u001b[1;33m.\u001b[0m\u001b[0m___write_progress_update\u001b[0m\u001b[1;33m(\u001b[0m\u001b[0msamples\u001b[0m\u001b[1;33m,\u001b[0m \u001b[0mupdates\u001b[0m\u001b[1;33m,\u001b[0m \u001b[0maggregate_loss\u001b[0m\u001b[1;33m,\u001b[0m \u001b[0maggregate_metric\u001b[0m\u001b[1;33m,\u001b[0m \u001b[0mself\u001b[0m\u001b[1;33m.\u001b[0m\u001b[0mfreq\u001b[0m\u001b[1;33m,\u001b[0m \u001b[1;34m''\u001b[0m\u001b[1;33m)\u001b[0m\u001b[1;33m\u001b[0m\u001b[1;33m\u001b[0m\u001b[0m\n\u001b[0;32m    338\u001b[0m \u001b[1;33m\u001b[0m\u001b[0m\n\u001b[1;32m--> 339\u001b[1;33m     \u001b[1;32mdef\u001b[0m \u001b[0mon_training_update_end\u001b[0m\u001b[1;33m(\u001b[0m\u001b[0mself\u001b[0m\u001b[1;33m)\u001b[0m\u001b[1;33m:\u001b[0m\u001b[1;33m\u001b[0m\u001b[1;33m\u001b[0m\u001b[0m\n\u001b[0m\u001b[0;32m    340\u001b[0m         \u001b[1;31m# Override for ProgressWriter.on_training_update_end.\u001b[0m\u001b[1;33m\u001b[0m\u001b[1;33m\u001b[0m\u001b[1;33m\u001b[0m\u001b[0m\n\u001b[0;32m    341\u001b[0m         \u001b[0mself\u001b[0m\u001b[1;33m.\u001b[0m\u001b[0m___generate_progress_heartbeat\u001b[0m\u001b[1;33m(\u001b[0m\u001b[1;33m)\u001b[0m\u001b[1;33m\u001b[0m\u001b[1;33m\u001b[0m\u001b[0m\n",
      "\u001b[1;31mKeyboardInterrupt\u001b[0m: "
     ]
    },
    {
     "ename": "RuntimeError",
     "evalue": "SWIG director method error.",
     "output_type": "error",
     "traceback": [
      "\u001b[1;31m---------------------------------------------------------------------------\u001b[0m",
      "\u001b[1;31mRuntimeError\u001b[0m                              Traceback (most recent call last)",
      "\u001b[1;32m<ipython-input-9-837962a5fbc7>\u001b[0m in \u001b[0;36m<module>\u001b[1;34m\u001b[0m\n\u001b[0;32m     18\u001b[0m            \u001b[0mparameter_learners\u001b[0m\u001b[1;33m=\u001b[0m\u001b[1;33m[\u001b[0m\u001b[0mlearner\u001b[0m\u001b[1;33m]\u001b[0m\u001b[1;33m,\u001b[0m\u001b[1;33m\u001b[0m\u001b[1;33m\u001b[0m\u001b[0m\n\u001b[0;32m     19\u001b[0m            \u001b[0mmodel_inputs_to_streams\u001b[0m\u001b[1;33m=\u001b[0m\u001b[0minput_map\u001b[0m\u001b[1;33m,\u001b[0m\u001b[1;33m\u001b[0m\u001b[1;33m\u001b[0m\u001b[0m\n\u001b[1;32m---> 20\u001b[1;33m            callbacks=[progress_writer, test_config])\n\u001b[0m",
      "\u001b[1;32mc:\\anaconda3\\lib\\site-packages\\cntk\\ops\\functions.py\u001b[0m in \u001b[0;36mtrain\u001b[1;34m(self, minibatch_source, minibatch_size, streams, model_inputs_to_streams, parameter_learners, callbacks, progress_frequency, max_epochs, epoch_size, max_samples)\u001b[0m\n\u001b[0;32m   1484\u001b[0m                               \u001b[0mprogress_frequency\u001b[0m\u001b[1;33m=\u001b[0m\u001b[0mprogress_frequency\u001b[0m\u001b[1;33m,\u001b[0m \u001b[0mmax_samples\u001b[0m\u001b[1;33m=\u001b[0m\u001b[0mmax_samples\u001b[0m\u001b[1;33m,\u001b[0m\u001b[1;33m\u001b[0m\u001b[1;33m\u001b[0m\u001b[0m\n\u001b[0;32m   1485\u001b[0m                               checkpoint_config=configs.checkpoint_configs[0], cv_config=configs.cv_configs[0], test_config=configs.test_configs[0])\n\u001b[1;32m-> 1486\u001b[1;33m         \u001b[0mts\u001b[0m\u001b[1;33m.\u001b[0m\u001b[0mtrain\u001b[0m\u001b[1;33m(\u001b[0m\u001b[1;33m)\u001b[0m\u001b[1;33m\u001b[0m\u001b[1;33m\u001b[0m\u001b[0m\n\u001b[0m\u001b[0;32m   1487\u001b[0m         \u001b[0mres\u001b[0m \u001b[1;33m=\u001b[0m \u001b[0mRecord\u001b[0m\u001b[1;33m(\u001b[0m\u001b[0mupdates\u001b[0m\u001b[1;33m=\u001b[0m\u001b[0mcollector\u001b[0m\u001b[1;33m.\u001b[0m\u001b[0mtraining_updates\u001b[0m\u001b[1;33m,\u001b[0m \u001b[0mepoch_summaries\u001b[0m\u001b[1;33m=\u001b[0m\u001b[0mcollector\u001b[0m\u001b[1;33m.\u001b[0m\u001b[0mtraining_summaries\u001b[0m\u001b[1;33m)\u001b[0m \u001b[1;32mif\u001b[0m \u001b[0mlen\u001b[0m\u001b[1;33m(\u001b[0m\u001b[0mcollector\u001b[0m\u001b[1;33m.\u001b[0m\u001b[0mtraining_summaries\u001b[0m\u001b[1;33m)\u001b[0m \u001b[1;33m>\u001b[0m \u001b[1;36m0\u001b[0m \u001b[1;32melse\u001b[0m\u001b[0;31m \u001b[0m\u001b[0;31m\\\u001b[0m\u001b[1;33m\u001b[0m\u001b[1;33m\u001b[0m\u001b[0m\n\u001b[0;32m   1488\u001b[0m               \u001b[0mRecord\u001b[0m\u001b[1;33m(\u001b[0m\u001b[0mupdates\u001b[0m\u001b[1;33m=\u001b[0m\u001b[1;33m[\u001b[0m\u001b[0mRecord\u001b[0m\u001b[1;33m(\u001b[0m\u001b[0mloss\u001b[0m\u001b[1;33m=\u001b[0m\u001b[1;36m0\u001b[0m\u001b[1;33m,\u001b[0m \u001b[0mmetric\u001b[0m\u001b[1;33m=\u001b[0m\u001b[1;36m0\u001b[0m\u001b[1;33m,\u001b[0m \u001b[0msamples\u001b[0m\u001b[1;33m=\u001b[0m\u001b[1;36m0\u001b[0m\u001b[1;33m)\u001b[0m\u001b[1;33m]\u001b[0m\u001b[1;33m,\u001b[0m \u001b[0mepoch_summaries\u001b[0m\u001b[1;33m=\u001b[0m\u001b[1;33m[\u001b[0m\u001b[0mRecord\u001b[0m\u001b[1;33m(\u001b[0m\u001b[0mloss\u001b[0m\u001b[1;33m=\u001b[0m\u001b[1;36m0\u001b[0m\u001b[1;33m,\u001b[0m \u001b[0mmetric\u001b[0m\u001b[1;33m=\u001b[0m\u001b[1;36m0\u001b[0m\u001b[1;33m,\u001b[0m \u001b[0msamples\u001b[0m\u001b[1;33m=\u001b[0m\u001b[1;36m0\u001b[0m\u001b[1;33m)\u001b[0m\u001b[1;33m]\u001b[0m\u001b[1;33m)\u001b[0m\u001b[1;33m\u001b[0m\u001b[1;33m\u001b[0m\u001b[0m\n",
      "\u001b[1;32mc:\\anaconda3\\lib\\site-packages\\cntk\\internal\\swig_helper.py\u001b[0m in \u001b[0;36mwrapper\u001b[1;34m(*args, **kwds)\u001b[0m\n\u001b[0;32m     67\u001b[0m     \u001b[1;33m@\u001b[0m\u001b[0mwraps\u001b[0m\u001b[1;33m(\u001b[0m\u001b[0mf\u001b[0m\u001b[1;33m)\u001b[0m\u001b[1;33m\u001b[0m\u001b[1;33m\u001b[0m\u001b[0m\n\u001b[0;32m     68\u001b[0m     \u001b[1;32mdef\u001b[0m \u001b[0mwrapper\u001b[0m\u001b[1;33m(\u001b[0m\u001b[1;33m*\u001b[0m\u001b[0margs\u001b[0m\u001b[1;33m,\u001b[0m \u001b[1;33m**\u001b[0m\u001b[0mkwds\u001b[0m\u001b[1;33m)\u001b[0m\u001b[1;33m:\u001b[0m\u001b[1;33m\u001b[0m\u001b[1;33m\u001b[0m\u001b[0m\n\u001b[1;32m---> 69\u001b[1;33m         \u001b[0mresult\u001b[0m \u001b[1;33m=\u001b[0m \u001b[0mf\u001b[0m\u001b[1;33m(\u001b[0m\u001b[1;33m*\u001b[0m\u001b[0margs\u001b[0m\u001b[1;33m,\u001b[0m \u001b[1;33m**\u001b[0m\u001b[0mkwds\u001b[0m\u001b[1;33m)\u001b[0m\u001b[1;33m\u001b[0m\u001b[1;33m\u001b[0m\u001b[0m\n\u001b[0m\u001b[0;32m     70\u001b[0m         \u001b[0mmap_if_possible\u001b[0m\u001b[1;33m(\u001b[0m\u001b[0mresult\u001b[0m\u001b[1;33m)\u001b[0m\u001b[1;33m\u001b[0m\u001b[1;33m\u001b[0m\u001b[0m\n\u001b[0;32m     71\u001b[0m         \u001b[1;32mreturn\u001b[0m \u001b[0mresult\u001b[0m\u001b[1;33m\u001b[0m\u001b[1;33m\u001b[0m\u001b[0m\n",
      "\u001b[1;32mc:\\anaconda3\\lib\\site-packages\\cntk\\train\\training_session.py\u001b[0m in \u001b[0;36mtrain\u001b[1;34m(self, device)\u001b[0m\n\u001b[0;32m    331\u001b[0m             \u001b[0mdevice\u001b[0m \u001b[1;33m=\u001b[0m \u001b[0muse_default_device\u001b[0m\u001b[1;33m(\u001b[0m\u001b[1;33m)\u001b[0m\u001b[1;33m\u001b[0m\u001b[1;33m\u001b[0m\u001b[0m\n\u001b[0;32m    332\u001b[0m \u001b[1;33m\u001b[0m\u001b[0m\n\u001b[1;32m--> 333\u001b[1;33m         \u001b[0msuper\u001b[0m\u001b[1;33m(\u001b[0m\u001b[0mTrainingSession\u001b[0m\u001b[1;33m,\u001b[0m \u001b[0mself\u001b[0m\u001b[1;33m)\u001b[0m\u001b[1;33m.\u001b[0m\u001b[0mtrain\u001b[0m\u001b[1;33m(\u001b[0m\u001b[0mdevice\u001b[0m\u001b[1;33m)\u001b[0m\u001b[1;33m\u001b[0m\u001b[1;33m\u001b[0m\u001b[0m\n\u001b[0m\u001b[0;32m    334\u001b[0m \u001b[1;33m\u001b[0m\u001b[0m\n\u001b[0;32m    335\u001b[0m     \u001b[1;32mdef\u001b[0m \u001b[0mon_cross_validation_end\u001b[0m\u001b[1;33m(\u001b[0m\u001b[0mself\u001b[0m\u001b[1;33m,\u001b[0m \u001b[0mindex\u001b[0m\u001b[1;33m,\u001b[0m \u001b[0maverage_error\u001b[0m\u001b[1;33m,\u001b[0m \u001b[0mnum_samples\u001b[0m\u001b[1;33m,\u001b[0m \u001b[0mnum_minibatches\u001b[0m\u001b[1;33m)\u001b[0m\u001b[1;33m:\u001b[0m\u001b[1;33m\u001b[0m\u001b[1;33m\u001b[0m\u001b[0m\n",
      "\u001b[1;32mc:\\anaconda3\\lib\\site-packages\\cntk\\cntk_py.py\u001b[0m in \u001b[0;36mtrain\u001b[1;34m(self, computeDevice)\u001b[0m\n\u001b[0;32m   3586\u001b[0m \u001b[1;33m\u001b[0m\u001b[0m\n\u001b[0;32m   3587\u001b[0m     \u001b[1;32mdef\u001b[0m \u001b[0mtrain\u001b[0m\u001b[1;33m(\u001b[0m\u001b[0mself\u001b[0m\u001b[1;33m,\u001b[0m \u001b[0mcomputeDevice\u001b[0m\u001b[1;33m)\u001b[0m\u001b[1;33m:\u001b[0m\u001b[1;33m\u001b[0m\u001b[1;33m\u001b[0m\u001b[0m\n\u001b[1;32m-> 3588\u001b[1;33m         \u001b[1;32mreturn\u001b[0m \u001b[0m_cntk_py\u001b[0m\u001b[1;33m.\u001b[0m\u001b[0mTrainingSession_train\u001b[0m\u001b[1;33m(\u001b[0m\u001b[0mself\u001b[0m\u001b[1;33m,\u001b[0m \u001b[0mcomputeDevice\u001b[0m\u001b[1;33m)\u001b[0m\u001b[1;33m\u001b[0m\u001b[1;33m\u001b[0m\u001b[0m\n\u001b[0m\u001b[0;32m   3589\u001b[0m \u001b[1;33m\u001b[0m\u001b[0m\n\u001b[0;32m   3590\u001b[0m     \u001b[1;32mdef\u001b[0m \u001b[0mrestore_from_checkpoint\u001b[0m\u001b[1;33m(\u001b[0m\u001b[0mself\u001b[0m\u001b[1;33m,\u001b[0m \u001b[0mcheckpointFileName\u001b[0m\u001b[1;33m)\u001b[0m\u001b[1;33m:\u001b[0m\u001b[1;33m\u001b[0m\u001b[1;33m\u001b[0m\u001b[0m\n",
      "\u001b[1;31mRuntimeError\u001b[0m: SWIG director method error."
     ]
    }
   ],
   "source": [
    "from cntk.logging import ProgressPrinter\n",
    "from cntk.train import TestConfig\n",
    "\n",
    "\n",
    "progress_writer = ProgressPrinter(0)\n",
    "\n",
    "test_config = TestConfig(test_datasource)\n",
    "\n",
    "input_map = {\n",
    "    features: train_datasource.streams.features,\n",
    "    labels: train_datasource.streams.labels\n",
    "}\n",
    "\n",
    "loss.train(train_datasource, \n",
    "           max_epochs=10,\n",
    "           minibatch_size=64,\n",
    "           epoch_size=60000, \n",
    "           parameter_learners=[learner], \n",
    "           model_inputs_to_streams=input_map,  \n",
    "           callbacks=[progress_writer, test_config])"
   ]
  },
  {
   "cell_type": "code",
   "execution_count": null,
   "metadata": {},
   "outputs": [],
   "source": []
  }
 ],
 "metadata": {
  "kernelspec": {
   "display_name": "Python 3",
   "language": "python",
   "name": "python3"
  },
  "language_info": {
   "codemirror_mode": {
    "name": "ipython",
    "version": 3
   },
   "file_extension": ".py",
   "mimetype": "text/x-python",
   "name": "python",
   "nbconvert_exporter": "python",
   "pygments_lexer": "ipython3",
   "version": "3.6.7"
  }
 },
 "nbformat": 4,
 "nbformat_minor": 2
}
