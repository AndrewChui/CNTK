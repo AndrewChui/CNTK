{
 "cells": [
  {
   "cell_type": "markdown",
   "metadata": {},
   "source": [
    "# Training using numpy arrays\n",
    "In this notebook we'll take a look at how to use numpy data to train a neural network in CNTK.\n",
    "The model used here is a basic classification model that uses random training samples. The goal is to demonstrate how to use numpy, so we left out the stuff that you don't need."
   ]
  },
  {
   "cell_type": "markdown",
   "metadata": {},
   "source": [
    "## Generating sample data\n",
    "Before we can actually train the model, we need to generate some sample data. We used the numpy random number generator for that. Notice that, we used a random integer for the classes with `high=2` because we want numbers between 0 and 1 (2 classes).\n",
    "We converted both to `float32` so that we can use the data without warnings in CNTK."
   ]
  },
  {
   "cell_type": "code",
   "execution_count": 1,
   "metadata": {},
   "outputs": [],
   "source": [
    "import numpy as np\n",
    "\n",
    "num_samples = 20000\n",
    "\n",
    "y = np.random.randint(size=(num_samples, 1), low=0, high=2).astype(np.float32)\n",
    "X = np.random.random(size=(num_samples, 4)).astype(np.float32)"
   ]
  },
  {
   "cell_type": "markdown",
   "metadata": {},
   "source": [
    "## Building the model\n",
    "The model is a basic classification model. We use one hidden layer and an output layer. \n",
    "Both have a sigmoid activation function. "
   ]
  },
  {
   "cell_type": "code",
   "execution_count": 1,
   "metadata": {},
   "outputs": [],
   "source": [
    "from cntk.layers import Dense, Sequential\n",
    "from cntk import input_variable, default_options\n",
    "from cntk.ops import sigmoid\n",
    "\n",
    "with default_options(activation=sigmoid):\n",
    "    model = Sequential([\n",
    "        Dense(4),\n",
    "        Dense(1)\n",
    "    ])\n",
    "\n",
    "features = input_variable(4)\n",
    "labels = input_variable(1)\n",
    "\n",
    "z = model(features)"
   ]
  },
  {
   "cell_type": "markdown",
   "metadata": {},
   "source": [
    "## Training the neural network\n",
    "To train the neural network you can invoke the `train` method on the loss function to feed the numpy data in chunks. These chunks are called minibatches. \n",
    "\n",
    "We've attached a progress printer to the training process so you can see what's going on.\n",
    "Also note, that we used a `minibatch_size` setting to control the number of samples per minibatch."
   ]
  },
  {
   "cell_type": "code",
   "execution_count": 3,
   "metadata": {
    "scrolled": true
   },
   "outputs": [
    {
     "name": "stdout",
     "output_type": "stream",
     "text": [
      " average      since    average      since      examples\n",
      "    loss       last     metric       last              \n",
      " ------------------------------------------------------\n",
      "Learning rate per minibatch: 0.1\n",
      "    0.996      0.996          0          0           512\n",
      "    0.946       0.92          0          0          1536\n",
      "    0.902      0.869          0          0          3584\n",
      "    0.843      0.792          0          0          7680\n",
      "    0.782      0.725          0          0         15872\n"
     ]
    }
   ],
   "source": [
    "from cntk.learners import sgd\n",
    "from cntk.losses import binary_cross_entropy\n",
    "from cntk.logging import ProgressPrinter\n",
    "\n",
    "progress_writer = ProgressPrinter(0)\n",
    "learner = sgd(z.parameters, lr=0.1)\n",
    "loss = binary_cross_entropy(z, labels)\n",
    "\n",
    "training_summary = loss.train((X,y), parameter_learners=[learner], callbacks=[progress_writer], minibatch_size=512)"
   ]
  }
 ],
 "metadata": {
  "kernelspec": {
   "display_name": "Python 3",
   "language": "python",
   "name": "python3"
  },
  "language_info": {
   "codemirror_mode": {
    "name": "ipython",
    "version": 3
   },
   "file_extension": ".py",
   "mimetype": "text/x-python",
   "name": "python",
   "nbconvert_exporter": "python",
   "pygments_lexer": "ipython3",
   "version": "3.6.7"
  }
 },
 "nbformat": 4,
 "nbformat_minor": 2
}
