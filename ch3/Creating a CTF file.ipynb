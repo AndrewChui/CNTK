{
 "cells": [
  {
   "cell_type": "markdown",
   "metadata": {},
   "source": [
    "# Creating a CTF file\n",
    "In chapter 3 of the book we're using CTF (CNTK Text Format) files to feed data into the neural network for training purposes. In this notebook we'll explain how you can convert a common CSV file into a CTF file for use with CNTK."
   ]
  },
  {
   "cell_type": "markdown",
   "metadata": {},
   "source": [
    "## Loading and processing the data\n",
    "The output dataset for this notebook is a CTF file that can be read directly by the CNTK trainer API.\n",
    "To do this we need to make sure the dataset contains only floating point values. First we extract a features matrix and a labels matrix from the dataset. The labels are stored as strings so we need to convert those to floating point representations. For this we use the `LabelBinarizer` from `scikit-learn`. "
   ]
  },
  {
   "cell_type": "code",
   "execution_count": 39,
   "metadata": {},
   "outputs": [],
   "source": [
    "import pandas as pd\n",
    "import numpy as np\n",
    "from sklearn.preprocessing import LabelBinarizer\n",
    "\n",
    "df_source = pd.read_csv('iris.csv', \n",
    "    names=['sepal_length', 'sepal_width','petal_length','petal_width', 'species'], \n",
    "    index_col=False)\n",
    "\n",
    "features = df_source.iloc[:,:4].values\n",
    "labels = df_source.iloc[:,-1:].values\n",
    "\n",
    "label_encoder = LabelBinarizer()\n",
    "labels = label_encoder.fit_transform(labels)"
   ]
  },
  {
   "cell_type": "markdown",
   "metadata": {},
   "source": [
    "## Writing the file to disk\n",
    "CTF files are text files that contain samples to use for either training or testing your neural network. The file format works like this. Each line contains a single sequence:\n",
    "\n",
    "```\n",
    "line=[sequence_id] (sample+)\n",
    "sample=|feature (value*)\n",
    "```\n",
    "\n",
    "You can store one sequence over multiple lines. Each sample is added to a sequence when the sequence IDs match.\n",
    "The use of sequence IDs is optional.\n",
    "\n",
    "The sample code below demonstrates how we can store our preprocessed dataset as a CTF file.\n",
    "We'll iterate over all the rows in our dataset and store the values as samples in the file.\n",
    "\n",
    "Note that when you store two different features on the same line, they are considered one sample.\n",
    "So that's what we'll use to keep the features and labels for a single sample together.\n",
    "\n",
    "To store the values correctly, we'll iterate over each of the values in the `features` and `labels` array, convert them to a string and then join them together with a space as separator."
   ]
  },
  {
   "cell_type": "code",
   "execution_count": 40,
   "metadata": {},
   "outputs": [],
   "source": [
    "with open('iris.ctf', 'w') as output_file:\n",
    "    for index in range(0, features.shape[0]):\n",
    "        feature_values = ' '.join([str(x) for x in np.nditer(features[index])])\n",
    "        label_values = ' '.join([str(x) for x in np.nditer(labels[index])])\n",
    "        \n",
    "        output_file.write('|features {} |labels {}\\n'.format(feature_values, label_values))"
   ]
  }
 ],
 "metadata": {
  "kernelspec": {
   "display_name": "Python 3",
   "language": "python",
   "name": "python3"
  },
  "language_info": {
   "codemirror_mode": {
    "name": "ipython",
    "version": 3
   },
   "file_extension": ".py",
   "mimetype": "text/x-python",
   "name": "python",
   "nbconvert_exporter": "python",
   "pygments_lexer": "ipython3",
   "version": "3.6.7"
  }
 },
 "nbformat": 4,
 "nbformat_minor": 2
}
