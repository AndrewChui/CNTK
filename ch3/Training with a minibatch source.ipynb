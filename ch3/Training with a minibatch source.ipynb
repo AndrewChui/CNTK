{
 "cells": [
  {
   "cell_type": "markdown",
   "metadata": {},
   "source": [
    "# Training with a minibatch source\n",
    "This notebook demonstrates how to use minibatch sources in CNTK to work with datasets that don't fit in memory fully.\n",
    "We'll work on a basic classification model just like in the other notebooks for this chapter. Except this time we're using a minibatch source to train the neural network."
   ]
  },
  {
   "cell_type": "code",
   "execution_count": 1,
   "metadata": {},
   "outputs": [],
   "source": [
    "# Fixate the random seed so you get the same results every time.\n",
    "\n",
    "import cntk\n",
    "import numpy \n",
    "\n",
    "cntk._cntk_py.set_fixed_random_seed(1337)\n",
    "numpy.random.seed = 1337"
   ]
  },
  {
   "cell_type": "markdown",
   "metadata": {},
   "source": [
    "## Creating the minibatch source\n",
    "In order to train the model we'll create a minibatch source. The minibatch source in CNTK needs a deserializer that can read the input data. We're using a CTF deserializer here as we're reading a CTF file. The CTF file contains two streams: features and labels. We'll have to define separate stream sources for these."
   ]
  },
  {
   "cell_type": "code",
   "execution_count": 2,
   "metadata": {},
   "outputs": [],
   "source": [
    "from cntk.io import StreamDef, StreamDefs, MinibatchSource, CTFDeserializer, INFINITELY_REPEAT\n",
    "\n",
    "labels_stream = StreamDef(field='labels', shape=3, is_sparse=False)\n",
    "features_stream = StreamDef(field='features', shape=4, is_sparse=False)\n",
    "\n",
    "deserializer = CTFDeserializer('iris.ctf', StreamDefs(labels=labels_stream, features=features_stream))\n",
    "\n",
    "minibatch_source = MinibatchSource(deserializer, randomize=True, max_sweeps=INFINITELY_REPEAT)"
   ]
  },
  {
   "cell_type": "markdown",
   "metadata": {},
   "source": [
    "## Building the model\n",
    "The model is a basic classification model. We use one hidden layer and an output layer. \n",
    "Both have a sigmoid activation function. "
   ]
  },
  {
   "cell_type": "code",
   "execution_count": 3,
   "metadata": {},
   "outputs": [],
   "source": [
    "from cntk import default_options, input_variable\n",
    "from cntk.layers import Dense, Sequential\n",
    "from cntk.ops import log_softmax, relu, sigmoid\n",
    "\n",
    "model = Sequential([\n",
    "    Dense(4, activation=sigmoid),\n",
    "    Dense(3, activation=log_softmax)\n",
    "])\n",
    "\n",
    "features = input_variable(4)\n",
    "labels = input_variable(3)\n",
    "\n",
    "z = model(features)"
   ]
  },
  {
   "cell_type": "markdown",
   "metadata": {},
   "source": [
    "The loss for this model is a cross-entropy loss function. We're using a SGD learner to optimize the parameters in the network."
   ]
  },
  {
   "cell_type": "code",
   "execution_count": 4,
   "metadata": {},
   "outputs": [],
   "source": [
    "from cntk.losses import cross_entropy_with_softmax\n",
    "from cntk.learners import sgd \n",
    "\n",
    "loss = cross_entropy_with_softmax(z, labels)\n",
    "learner = sgd(z.parameters, 0.1)"
   ]
  },
  {
   "cell_type": "markdown",
   "metadata": {},
   "source": [
    "## Training the model\n",
    "Now that we have a minibatch source we can setup a training session and a trainer. The trainer uses the loss and learner to train the model. The training session is configured to read training data from our minibatch source and feeds the data into the trainer to optimize the parameters of the model."
   ]
  },
  {
   "cell_type": "code",
   "execution_count": 5,
   "metadata": {},
   "outputs": [
    {
     "name": "stdout",
     "output_type": "stream",
     "text": [
      " average      since    average      since      examples\n",
      "    loss       last     metric       last              \n",
      " ------------------------------------------------------\n",
      "Learning rate per minibatch: 0.1\n",
      "     1.21       1.21          0          0            32\n",
      "     1.15       1.12          0          0            96\n",
      "     1.09       1.09          0          0            32\n",
      "     1.03       1.01          0          0            96\n",
      "    0.999      0.999          0          0            32\n",
      "    0.999      0.998          0          0            96\n",
      "    0.972      0.972          0          0            32\n",
      "    0.968      0.966          0          0            96\n",
      "    0.928      0.928          0          0            32\n",
      "    0.957      0.972          0          0            96\n",
      "    0.928      0.928          0          0            32\n",
      "    0.936       0.94          0          0            96\n",
      "    0.922      0.922          0          0            32\n",
      "    0.919      0.917          0          0            96\n",
      "    0.922      0.922          0          0            32\n",
      "     0.91      0.905          0          0            96\n",
      "    0.879      0.879          0          0            32\n",
      "    0.889      0.894          0          0            96\n",
      "    0.892      0.892          0          0            32\n",
      "    0.874      0.864          0          0            96\n",
      "    0.873      0.873          0          0            32\n",
      "    0.874      0.875          0          0            96\n",
      "    0.851      0.851          0          0            32\n",
      "    0.846      0.844          0          0            96\n",
      "     0.85       0.85          0          0            32\n",
      "     0.84      0.834          0          0            96\n",
      "    0.839      0.839          0          0            32\n",
      "    0.835      0.834          0          0            96\n",
      "    0.811      0.811          0          0            32\n",
      "    0.818      0.821          0          0            96\n",
      "    0.786      0.786          0          0            32\n",
      "    0.793      0.797          0          0            96\n",
      "    0.786      0.786          0          0            32\n",
      "     0.77      0.762          0          0            96\n",
      "    0.797      0.797          0          0            32\n",
      "     0.78      0.771          0          0            96\n",
      "    0.784      0.784          0          0            32\n",
      "    0.792      0.795          0          0            96\n",
      "    0.742      0.742          0          0            32\n",
      "    0.777      0.794          0          0            96\n",
      "    0.726      0.726          0          0            32\n",
      "    0.757      0.773          0          0            96\n",
      "    0.735      0.735          0          0            32\n",
      "    0.764      0.779          0          0            96\n",
      "    0.733      0.733          0          0            32\n",
      "    0.722      0.716          0          0            96\n",
      "    0.778      0.778          0          0            32\n",
      "    0.738      0.718          0          0            96\n",
      "    0.667      0.667          0          0            32\n",
      "     0.73      0.762          0          0            96\n",
      "    0.681      0.681          0          0            32\n",
      "    0.695      0.702          0          0            96\n",
      "    0.718      0.718          0          0            32\n",
      "    0.709      0.705          0          0            96\n",
      "     0.69       0.69          0          0            32\n",
      "    0.691      0.692          0          0            96\n",
      "     0.71       0.71          0          0            32\n",
      "    0.687      0.675          0          0            96\n",
      "    0.726      0.726          0          0            32\n",
      "    0.709      0.701          0          0            96\n"
     ]
    }
   ],
   "source": [
    "from cntk.logging import ProgressPrinter\n",
    "from cntk.train import Trainer, training_session\n",
    "\n",
    "minibatch_size = 16\n",
    "samples_per_epoch = 150\n",
    "num_epochs = 30\n",
    "max_samples = samples_per_epoch * num_epochs\n",
    "\n",
    "input_map = {\n",
    "    features: minibatch_source.streams.features,\n",
    "    labels: minibatch_source.streams.labels\n",
    "}\n",
    "\n",
    "progress_writer = ProgressPrinter(0)\n",
    "\n",
    "train_history = loss.train(minibatch_source, \n",
    "           parameter_learners=[learner],\n",
    "           model_inputs_to_streams=input_map,\n",
    "           callbacks=[progress_writer],\n",
    "           epoch_size=samples_per_epoch,\n",
    "           max_epochs=num_epochs)"
   ]
  }
 ],
 "metadata": {
  "kernelspec": {
   "display_name": "Python 3",
   "language": "python",
   "name": "python3"
  },
  "language_info": {
   "codemirror_mode": {
    "name": "ipython",
    "version": 3
   },
   "file_extension": ".py",
   "mimetype": "text/x-python",
   "name": "python",
   "nbconvert_exporter": "python",
   "pygments_lexer": "ipython3",
   "version": "3.6.7"
  }
 },
 "nbformat": 4,
 "nbformat_minor": 2
}
