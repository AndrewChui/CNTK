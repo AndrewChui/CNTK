{
 "cells": [
  {
   "cell_type": "markdown",
   "metadata": {},
   "source": [
    "# Validating performance of regression models\n",
    "This notebook explains how to use CNTK metric functions to validate the performance of a regression model.\n",
    "We're using the [car MPG dataset](https://archive.ics.uci.edu/ml/datasets/Auto+MPG) from the UCI dataset library. This dataset is perfect for demonstrating how to build a regression model using CNTK. \n",
    "\n",
    "In the dataset, you'll find 9 columns:\n",
    "\n",
    "1. mpg: continuous \n",
    "2. cylinders: multi-valued discrete \n",
    "3. displacement: continuous \n",
    "4. horsepower: continuous \n",
    "5. weight: continuous \n",
    "6. acceleration: continuous \n",
    "7. model year: multi-valued discrete \n",
    "8. origin: multi-valued discrete \n",
    "9. car name: string (unique for each instance)\n",
    "\n",
    "All columns in the dataset contain numeric values except for the origin column which is a categorical value.\n",
    "We'll strip the `car name` column as it cannot be used in our model."
   ]
  },
  {
   "cell_type": "markdown",
   "metadata": {},
   "source": [
    "## The model\n",
    "The model we're using features two hidden layers. Each with 64 neurons with a ReLU (Rectified Linear Unit) activation function. The output is a single neuron without an activation function. This is necessary to turn this neural network into a regression model.\n",
    "\n",
    "We're using the 8 input features and the miles per gallon as target for our neural network."
   ]
  },
  {
   "cell_type": "code",
   "execution_count": 69,
   "metadata": {},
   "outputs": [],
   "source": [
    "from cntk import default_options, input_variable\n",
    "from cntk.layers import Dense, Sequential\n",
    "from cntk.ops import relu\n",
    "\n",
    "with default_options(activation=relu):\n",
    "    model = Sequential([\n",
    "        Dense(64),\n",
    "        Dense(64),\n",
    "        Dense(1,activation=None)\n",
    "    ])\n",
    "    \n",
    "features = input_variable(9)\n",
    "target = input_variable(1)\n",
    "\n",
    "z = model(features)"
   ]
  },
  {
   "cell_type": "markdown",
   "metadata": {},
   "source": [
    "## Preprocessing\n",
    "In this section we'll first preprocess the data so that it is compatible for use with our neural network.\n",
    "We need to load the data and then clean it up."
   ]
  },
  {
   "cell_type": "code",
   "execution_count": 70,
   "metadata": {},
   "outputs": [],
   "source": [
    "import pandas as pd\n",
    "import numpy as np"
   ]
  },
  {
   "cell_type": "code",
   "execution_count": 71,
   "metadata": {},
   "outputs": [],
   "source": [
    "df_cars = pd.read_csv('auto-mpg.csv', na_values=['?'])\n",
    "df_cars = df_cars.dropna()"
   ]
  },
  {
   "cell_type": "markdown",
   "metadata": {},
   "source": [
    "The origin column contains three possible values, as is shown in the dictionary below. To use the origin in the neural network we need to split it into three separate columns. For this we'll first replace the numeric values with a string value. After we've done that, we ask pandas to generate dummy columns. This creates three columns: usa, europa, and japan. For each sample in the dataset, one of these columns will contain a value of 1 and the rest will contain a value of 0."
   ]
  },
  {
   "cell_type": "code",
   "execution_count": 72,
   "metadata": {},
   "outputs": [],
   "source": [
    "origin_mapping = {\n",
    "    1: 'usa',\n",
    "    2: 'europe',\n",
    "    3: 'japan'\n",
    "}\n",
    "\n",
    "df_cars.replace({'origin': origin_mapping}, inplace=True)\n",
    "\n",
    "categorical_origin = pd.get_dummies(df_cars['origin'], prefix='origin')\n",
    "\n",
    "df_cars = pd.concat([df_cars, categorical_origin], axis=1)\n",
    "df_cars = df_cars.drop(columns=['origin', 'car name'])"
   ]
  },
  {
   "cell_type": "markdown",
   "metadata": {},
   "source": [
    "The final result of this operation is the following dataset. It contains 9 columns. Of these columns the `mpg` column is used as the target output. The rest is used as a feature for the model."
   ]
  },
  {
   "cell_type": "code",
   "execution_count": 73,
   "metadata": {},
   "outputs": [
    {
     "data": {
      "text/html": [
       "<div>\n",
       "<style scoped>\n",
       "    .dataframe tbody tr th:only-of-type {\n",
       "        vertical-align: middle;\n",
       "    }\n",
       "\n",
       "    .dataframe tbody tr th {\n",
       "        vertical-align: top;\n",
       "    }\n",
       "\n",
       "    .dataframe thead th {\n",
       "        text-align: right;\n",
       "    }\n",
       "</style>\n",
       "<table border=\"1\" class=\"dataframe\">\n",
       "  <thead>\n",
       "    <tr style=\"text-align: right;\">\n",
       "      <th></th>\n",
       "      <th>mpg</th>\n",
       "      <th>cylinders</th>\n",
       "      <th>displacement</th>\n",
       "      <th>horsepower</th>\n",
       "      <th>weight</th>\n",
       "      <th>acceleration</th>\n",
       "      <th>model year</th>\n",
       "      <th>origin_europe</th>\n",
       "      <th>origin_japan</th>\n",
       "      <th>origin_usa</th>\n",
       "    </tr>\n",
       "  </thead>\n",
       "  <tbody>\n",
       "    <tr>\n",
       "      <th>0</th>\n",
       "      <td>18.0</td>\n",
       "      <td>8</td>\n",
       "      <td>307.0</td>\n",
       "      <td>130.0</td>\n",
       "      <td>3504</td>\n",
       "      <td>12.0</td>\n",
       "      <td>70</td>\n",
       "      <td>0</td>\n",
       "      <td>0</td>\n",
       "      <td>1</td>\n",
       "    </tr>\n",
       "    <tr>\n",
       "      <th>1</th>\n",
       "      <td>15.0</td>\n",
       "      <td>8</td>\n",
       "      <td>350.0</td>\n",
       "      <td>165.0</td>\n",
       "      <td>3693</td>\n",
       "      <td>11.5</td>\n",
       "      <td>70</td>\n",
       "      <td>0</td>\n",
       "      <td>0</td>\n",
       "      <td>1</td>\n",
       "    </tr>\n",
       "    <tr>\n",
       "      <th>2</th>\n",
       "      <td>18.0</td>\n",
       "      <td>8</td>\n",
       "      <td>318.0</td>\n",
       "      <td>150.0</td>\n",
       "      <td>3436</td>\n",
       "      <td>11.0</td>\n",
       "      <td>70</td>\n",
       "      <td>0</td>\n",
       "      <td>0</td>\n",
       "      <td>1</td>\n",
       "    </tr>\n",
       "    <tr>\n",
       "      <th>3</th>\n",
       "      <td>16.0</td>\n",
       "      <td>8</td>\n",
       "      <td>304.0</td>\n",
       "      <td>150.0</td>\n",
       "      <td>3433</td>\n",
       "      <td>12.0</td>\n",
       "      <td>70</td>\n",
       "      <td>0</td>\n",
       "      <td>0</td>\n",
       "      <td>1</td>\n",
       "    </tr>\n",
       "    <tr>\n",
       "      <th>4</th>\n",
       "      <td>17.0</td>\n",
       "      <td>8</td>\n",
       "      <td>302.0</td>\n",
       "      <td>140.0</td>\n",
       "      <td>3449</td>\n",
       "      <td>10.5</td>\n",
       "      <td>70</td>\n",
       "      <td>0</td>\n",
       "      <td>0</td>\n",
       "      <td>1</td>\n",
       "    </tr>\n",
       "  </tbody>\n",
       "</table>\n",
       "</div>"
      ],
      "text/plain": [
       "    mpg  cylinders  displacement  horsepower  weight  acceleration  \\\n",
       "0  18.0          8         307.0       130.0    3504          12.0   \n",
       "1  15.0          8         350.0       165.0    3693          11.5   \n",
       "2  18.0          8         318.0       150.0    3436          11.0   \n",
       "3  16.0          8         304.0       150.0    3433          12.0   \n",
       "4  17.0          8         302.0       140.0    3449          10.5   \n",
       "\n",
       "   model year  origin_europe  origin_japan  origin_usa  \n",
       "0          70              0             0           1  \n",
       "1          70              0             0           1  \n",
       "2          70              0             0           1  \n",
       "3          70              0             0           1  \n",
       "4          70              0             0           1  "
      ]
     },
     "execution_count": 73,
     "metadata": {},
     "output_type": "execute_result"
    }
   ],
   "source": [
    "df_cars.head()"
   ]
  },
  {
   "cell_type": "code",
   "execution_count": 74,
   "metadata": {},
   "outputs": [],
   "source": [
    "X = df_cars.drop(columns=['mpg']).values.astype(np.float32)\n",
    "y = df_cars.iloc[:,0].values.reshape(-1,1).astype(np.float32)"
   ]
  },
  {
   "cell_type": "markdown",
   "metadata": {},
   "source": [
    "The data has some really extreme values that do not sit well with our neural network. When you run the training process without scaling the inputs you end up with exploding gradients in your neural network. So we apply standard scaling which scales the values to +1 and -1. "
   ]
  },
  {
   "cell_type": "code",
   "execution_count": 75,
   "metadata": {},
   "outputs": [],
   "source": [
    "from sklearn.preprocessing import StandardScaler\n",
    "\n",
    "scaler = StandardScaler()\n",
    "X = scaler.fit_transform(X)"
   ]
  },
  {
   "cell_type": "markdown",
   "metadata": {},
   "source": [
    "Now that we have a good dataset, we need to create a hold-out set to ensure that we validate the performance on data that we haven't used for training. This is important as this will tell us how the model performs on unseen data."
   ]
  },
  {
   "cell_type": "code",
   "execution_count": 76,
   "metadata": {},
   "outputs": [],
   "source": [
    "from sklearn.model_selection import train_test_split\n",
    "\n",
    "X_train, X_test, y_train, y_test = train_test_split(X, y, test_size=0.2)"
   ]
  },
  {
   "cell_type": "markdown",
   "metadata": {},
   "source": [
    "## Training the neural network\n",
    "Now that we have a neural network, let's train it using the training set.\n",
    "We're using a squared error loss function which is a regular loss that you will find in almost any regression model. We'll train the model using a SGD learner, which is the most basic learner around for CNTK.\n",
    "\n",
    "The criterion for training is the mean squared error function. Additionally we would like to measure the mean absolute error rate for the model. In order to do this, we need to create a CNTK function factory that produces a combination of these two. \n",
    "\n",
    "When you create a new function in python marked with `cntk.Function` annotation CNTK will automatically convert it to a function object that has a `train` method for training and a `test` method for validation. \n",
    "\n",
    "Since we don't have a mean absolute error function out-of-the-box we'll create it here as well using the standard CNTK operators."
   ]
  },
  {
   "cell_type": "code",
   "execution_count": 77,
   "metadata": {},
   "outputs": [],
   "source": [
    "import cntk \n",
    "\n",
    "def absolute_error(output, target):\n",
    "    return cntk.ops.reduce_mean(cntk.ops.abs(output - target))\n",
    "\n",
    "@cntk.Function\n",
    "def criterion_factory(output, target):\n",
    "    loss = squared_error(output, target)\n",
    "    metric = absolute_error(output, target)\n",
    "    \n",
    "    return loss, metric"
   ]
  },
  {
   "cell_type": "code",
   "execution_count": 78,
   "metadata": {
    "scrolled": true
   },
   "outputs": [
    {
     "name": "stdout",
     "output_type": "stream",
     "text": [
      " average      since    average      since      examples\n",
      "    loss       last     metric       last              \n",
      " ------------------------------------------------------\n",
      "Learning rate per minibatch: 0.001\n",
      "      690        690       24.9       24.9            16\n",
      "      654        636       24.1       23.7            48\n",
      "      602        563       23.1       22.3           112\n",
      "      480        373       20.4         18           240\n",
      "       62         62       6.19       6.19            16\n",
      "     47.6       40.4       5.55       5.24            48\n",
      "     44.1       41.5       5.16       4.87           112\n",
      "     32.9       23.1        4.5       3.92           240\n",
      "     15.5       15.5       3.12       3.12            16\n",
      "     15.7       15.7       3.13       3.14            48\n",
      "     15.8       15.9       3.16       3.18           112\n",
      "     14.5       13.3       3.01       2.88           240\n",
      "     13.1       13.1       2.67       2.67            16\n",
      "     12.5       12.3       2.73       2.76            48\n",
      "     12.4       12.3       2.74       2.76           112\n",
      "     11.7       11.1       2.64       2.55           240\n",
      "     11.1       11.1       2.46       2.46            16\n",
      "     10.9       10.8       2.49       2.51            48\n",
      "     10.9       10.9       2.51       2.53           112\n",
      "     10.3       9.75       2.42       2.34           240\n",
      "     9.77       9.77       2.27       2.27            16\n",
      "     9.79       9.81       2.32       2.34            48\n",
      "     9.95       10.1       2.35       2.38           112\n",
      "     9.35       8.83       2.27       2.19           240\n",
      "     8.93       8.93       2.16       2.16            16\n",
      "     9.05       9.11       2.19       2.21            48\n",
      "     9.29       9.46       2.23       2.26           112\n",
      "      8.7       8.19       2.15       2.07           240\n",
      "     8.39       8.39       2.11       2.11            16\n",
      "     8.54       8.61       2.11       2.11            48\n",
      "     8.81       9.01       2.16        2.2           112\n",
      "     8.23       7.71       2.07       1.98           240\n",
      "        8          8       2.08       2.08            16\n",
      "     8.15       8.23       2.04       2.02            48\n",
      "     8.45       8.68       2.11       2.15           112\n",
      "     7.87       7.37       2.01       1.92           240\n",
      "     7.71       7.71       2.07       2.07            16\n",
      "     7.87       7.96       1.99       1.95            48\n",
      "     8.19       8.43       2.06       2.12           112\n",
      "     7.61       7.11       1.96       1.87           240\n",
      "     7.46       7.46       2.04       2.04            16\n",
      "     7.65       7.75       1.95        1.9            48\n",
      "     7.99       8.24       2.03        2.1           112\n",
      "     7.42       6.91       1.93       1.84           240\n",
      "     7.29       7.29       2.03       2.03            16\n",
      "     7.49       7.59       1.91       1.86            48\n",
      "     7.83       8.09       2.01       2.08           112\n",
      "     7.26       6.77       1.91       1.82           240\n",
      "     7.16       7.16       2.02       2.02            16\n",
      "     7.37       7.47       1.89       1.83            48\n",
      "     7.71       7.97       1.99       2.07           112\n",
      "     7.14       6.64       1.89        1.8           240\n",
      "     7.07       7.07       2.01       2.01            16\n",
      "     7.27       7.37       1.87       1.79            48\n",
      "     7.61       7.87       1.98       2.06           112\n",
      "     7.04       6.54       1.87       1.78           240\n",
      "     7.01       7.01          2          2            16\n",
      "      7.2        7.3       1.85       1.77            48\n",
      "     7.53       7.78       1.97       2.06           112\n",
      "     6.96       6.46       1.86       1.77           240\n",
      "     6.95       6.95          2          2            16\n",
      "     7.15       7.25       1.84       1.76            48\n",
      "     7.46       7.69       1.96       2.05           112\n",
      "     6.89        6.4       1.86       1.77           240\n",
      "     6.92       6.92          2          2            16\n",
      "      7.1        7.2       1.83       1.74            48\n",
      "     7.39       7.61       1.95       2.04           112\n",
      "     6.83       6.33       1.85       1.76           240\n",
      "     6.88       6.88       1.99       1.99            16\n",
      "     7.07       7.16       1.82       1.73            48\n",
      "     7.34       7.54       1.94       2.04           112\n",
      "     6.77       6.27       1.84       1.75           240\n",
      "     6.86       6.86       1.99       1.99            16\n",
      "     7.02        7.1       1.81       1.72            48\n",
      "     7.28       7.47       1.94       2.03           112\n",
      "     6.71       6.22       1.83       1.74           240\n",
      "     6.86       6.86       1.99       1.99            16\n",
      "        7       7.08       1.81       1.71            48\n",
      "     7.23        7.4       1.93       2.02           112\n",
      "     6.66       6.17       1.82       1.73           240\n",
      "     6.84       6.84       1.99       1.99            16\n",
      "     6.98       7.05        1.8       1.71            48\n",
      "     7.18       7.34       1.92       2.02           112\n",
      "     6.62       6.12       1.82       1.72           240\n",
      "     6.83       6.83       1.99       1.99            16\n",
      "     6.96       7.03        1.8        1.7            48\n",
      "     7.14       7.27       1.92       2.01           112\n",
      "     6.57       6.08       1.81       1.72           240\n",
      "     6.81       6.81       1.99       1.99            16\n",
      "     6.94       7.01       1.79       1.69            48\n",
      "      7.1       7.22       1.91          2           112\n",
      "     6.53       6.03        1.8       1.71           240\n",
      "     6.79       6.79       1.99       1.99            16\n",
      "     6.92       6.98       1.79       1.69            48\n",
      "     7.06       7.16       1.91          2           112\n",
      "     6.49       5.99        1.8        1.7           240\n",
      "     6.77       6.77       1.98       1.98            16\n",
      "     6.89       6.95       1.78       1.68            48\n",
      "     7.02       7.11        1.9       1.99           112\n",
      "     6.45       5.95       1.79        1.7           240\n",
      "     6.76       6.76       1.99       1.99            16\n",
      "     6.87       6.92       1.78       1.67            48\n",
      "     6.98       7.07       1.89       1.98           112\n",
      "     6.41       5.91       1.79       1.69           240\n",
      "     6.75       6.75       1.98       1.98            16\n",
      "     6.85        6.9       1.77       1.67            48\n",
      "     6.95       7.03       1.89       1.98           112\n",
      "     6.38       5.87       1.78       1.68           240\n",
      "     6.73       6.73       1.99       1.99            16\n",
      "     6.82       6.87       1.77       1.66            48\n",
      "     6.92       6.99       1.89       1.97           112\n",
      "     6.34       5.84       1.77       1.68           240\n",
      "     6.72       6.72       1.99       1.99            16\n",
      "     6.81       6.86       1.76       1.65            48\n",
      "     6.89       6.95       1.88       1.97           112\n",
      "     6.31        5.8       1.77       1.67           240\n",
      "     6.71       6.71       1.99       1.99            16\n",
      "      6.8       6.84       1.76       1.65            48\n",
      "     6.86       6.91       1.88       1.96           112\n",
      "     6.28       5.77       1.76       1.67           240\n",
      "      6.7        6.7       1.99       1.99            16\n",
      "     6.78       6.83       1.76       1.64            48\n",
      "     6.83       6.86       1.87       1.95           112\n",
      "     6.25       5.73       1.76       1.66           240\n",
      "     6.69       6.69          2          2            16\n",
      "     6.76       6.79       1.75       1.63            48\n",
      "      6.8       6.83       1.87       1.95           112\n",
      "     6.21        5.7       1.75       1.65           240\n",
      "     6.69       6.69          2          2            16\n",
      "     6.75       6.77       1.75       1.63            48\n",
      "     6.77       6.79       1.86       1.94           112\n",
      "     6.18       5.66       1.75       1.65           240\n",
      "     6.69       6.69          2          2            16\n",
      "     6.74       6.76       1.75       1.62            48\n",
      "     6.75       6.75       1.85       1.93           112\n",
      "     6.15       5.63       1.74       1.64           240\n",
      "     6.68       6.68          2          2            16\n",
      "     6.72       6.73       1.74       1.61            48\n",
      "     6.72       6.73       1.85       1.93           112\n",
      "     6.13       5.61       1.74       1.64           240\n",
      "     6.68       6.68       2.01       2.01            16\n",
      "     6.71       6.72       1.74       1.61            48\n",
      "      6.7       6.69       1.85       1.92           112\n",
      "      6.1       5.58       1.73       1.63           240\n",
      "     6.67       6.67       2.01       2.01            16\n",
      "     6.69        6.7       1.74        1.6            48\n",
      "     6.68       6.66       1.84       1.92           112\n",
      "     6.08       5.56       1.73       1.63           240\n",
      "     6.68       6.68       2.01       2.01            16\n",
      "     6.69       6.69       1.74        1.6            48\n",
      "     6.65       6.63       1.84       1.91           112\n",
      "     6.06       5.54       1.72       1.62           240\n",
      "     6.68       6.68       2.02       2.02            16\n",
      "     6.68       6.68       1.73       1.59            48\n",
      "     6.64        6.6       1.83       1.91           112\n",
      "     6.04       5.51       1.72       1.62           240\n",
      "     6.68       6.68       2.02       2.02            16\n",
      "     6.66       6.65       1.73       1.59            48\n",
      "     6.61       6.58       1.83        1.9           112\n",
      "     6.01       5.48       1.72       1.62           240\n",
      "     6.67       6.67       2.02       2.02            16\n",
      "     6.65       6.64       1.73       1.58            48\n",
      "     6.59       6.54       1.82        1.9           112\n"
     ]
    },
    {
     "name": "stdout",
     "output_type": "stream",
     "text": [
      "     5.99       5.47       1.71       1.61           240\n",
      "     6.68       6.68       2.03       2.03            16\n",
      "     6.64       6.63       1.73       1.58            48\n",
      "     6.57       6.52       1.82       1.89           112\n",
      "     5.97       5.44       1.71       1.61           240\n",
      "     6.66       6.66       2.03       2.03            16\n",
      "     6.63       6.61       1.72       1.57            48\n",
      "     6.55       6.49       1.82       1.89           112\n",
      "     5.95       5.42        1.7       1.61           240\n",
      "     6.66       6.66       2.03       2.03            16\n",
      "     6.62        6.6       1.72       1.57            48\n",
      "     6.53       6.46       1.81       1.88           112\n",
      "     5.93        5.4        1.7        1.6           240\n",
      "     6.64       6.64       2.03       2.03            16\n",
      "      6.6       6.58       1.72       1.56            48\n",
      "      6.5       6.43       1.81       1.88           112\n",
      "     5.91       5.38        1.7        1.6           240\n",
      "     6.63       6.63       2.03       2.03            16\n",
      "      6.6       6.58       1.72       1.56            48\n",
      "     6.48        6.4       1.81       1.87           112\n",
      "     5.89       5.37       1.69       1.59           240\n",
      "     6.63       6.63       2.03       2.03            16\n",
      "     6.58       6.56       1.71       1.55            48\n",
      "     6.47       6.38        1.8       1.87           112\n",
      "     5.87       5.35       1.69       1.59           240\n",
      "     6.63       6.63       2.03       2.03            16\n",
      "     6.58       6.56       1.71       1.55            48\n",
      "     6.45       6.35        1.8       1.86           112\n",
      "     5.85       5.32       1.69       1.59           240\n",
      "     6.63       6.63       2.03       2.03            16\n",
      "     6.58       6.55       1.71       1.55            48\n",
      "     6.43       6.31       1.79       1.86           112\n",
      "     5.83       5.31       1.68       1.58           240\n",
      "     6.63       6.63       2.03       2.03            16\n",
      "     6.56       6.53        1.7       1.54            48\n",
      "      6.4       6.28       1.79       1.85           112\n",
      "     5.81       5.29       1.68       1.58           240\n"
     ]
    }
   ],
   "source": [
    "from cntk.logging import ProgressPrinter\n",
    "from cntk.losses import squared_error\n",
    "from cntk.learners import sgd\n",
    "\n",
    "loss = criterion_factory(z, target)\n",
    "learner = sgd(z.parameters, 0.001)\n",
    "\n",
    "progress_printer = ProgressPrinter(0)\n",
    "\n",
    "train_summary = loss.train((X_train,y_train), \n",
    "                           parameter_learners=[learner], \n",
    "                           callbacks=[progress_printer],\n",
    "                           minibatch_size=16,\n",
    "                           max_epochs=50)"
   ]
  },
  {
   "cell_type": "markdown",
   "metadata": {},
   "source": [
    "The output of the training session is looking promising, you can see that the loss is going down quite nicely. It's not perfect, but not bad for a first attempt."
   ]
  },
  {
   "cell_type": "markdown",
   "metadata": {},
   "source": [
    "## Evaluating model performance\n",
    "In order to measure the performance of our model we're going first going to use the squared error function from CNTK.\n",
    "This gives us an rough idea of the error rate of the model. But this is in squares so it is quite hard to read depending on your background.\n",
    "\n",
    "As an alternative we'll also use the mean absolute error metric. This gives a more understandable error rate.\n",
    "This metric gives us a good idea of just how much we're off predicting the miles per gallon.\n",
    "\n",
    "CNTK doesn't include a mean absolute error function, but you can easily create it yourself using the standard CNTK ops.\n",
    "\n",
    "We're using the test method on the metric to determine how well our model is doing. This is different from the classification model where we had to do quite a bit more to measure the performance of our model."
   ]
  },
  {
   "cell_type": "markdown",
   "metadata": {},
   "source": [
    "The output of the `test` method tells us how many miles per gallon the model is off on average when predicting based on the test set we created earlier."
   ]
  },
  {
   "cell_type": "code",
   "execution_count": 79,
   "metadata": {},
   "outputs": [
    {
     "data": {
      "text/plain": [
       "{'metric': 1.8967978561980814, 'samples': 79}"
      ]
     },
     "execution_count": 79,
     "metadata": {},
     "output_type": "execute_result"
    }
   ],
   "source": [
    "loss.test((X_test, y_test))"
   ]
  }
 ],
 "metadata": {
  "kernelspec": {
   "display_name": "Python 3",
   "language": "python",
   "name": "python3"
  },
  "language_info": {
   "codemirror_mode": {
    "name": "ipython",
    "version": 3
   },
   "file_extension": ".py",
   "mimetype": "text/x-python",
   "name": "python",
   "nbconvert_exporter": "python",
   "pygments_lexer": "ipython3",
   "version": "3.6.7"
  }
 },
 "nbformat": 4,
 "nbformat_minor": 2
}
