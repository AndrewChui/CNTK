{
 "cells": [
  {
   "cell_type": "markdown",
   "metadata": {},
   "source": [
    "# Validating performance of regression models\n",
    "This notebook explains how to use CNTK metric functions to validate the performance of a regression model.\n",
    "We're using the [car MPG dataset](https://archive.ics.uci.edu/ml/datasets/Auto+MPG) from the UCI dataset library. This dataset is perfect for demonstrating how to build a regression model using CNTK. \n",
    "\n",
    "In the dataset, you'll find 9 columns:\n",
    "\n",
    "1. mpg: continuous \n",
    "2. cylinders: multi-valued discrete \n",
    "3. displacement: continuous \n",
    "4. horsepower: continuous \n",
    "5. weight: continuous \n",
    "6. acceleration: continuous \n",
    "7. model year: multi-valued discrete \n",
    "8. origin: multi-valued discrete \n",
    "9. car name: string (unique for each instance)\n",
    "\n",
    "All columns in the dataset contain numeric values except for the origin column which is a categorical value.\n",
    "We'll strip the `car name` column as it cannot be used in our model."
   ]
  },
  {
   "cell_type": "markdown",
   "metadata": {},
   "source": [
    "## The model\n",
    "The model we're using features two hidden layers. Each with 64 neurons with a ReLU (Rectified Linear Unit) activation function. The output is a single neuron without an activation function. This is necessary to turn this neural network into a regression model.\n",
    "\n",
    "We're using the 8 input features and the miles per gallon as target for our neural network."
   ]
  },
  {
   "cell_type": "code",
   "execution_count": 11,
   "metadata": {},
   "outputs": [],
   "source": [
    "from cntk import default_options, input_variable\n",
    "from cntk.layers import Dense, Sequential\n",
    "from cntk.ops import relu\n",
    "\n",
    "with default_options(activation=relu):\n",
    "    model = Sequential([\n",
    "        Dense(64),\n",
    "        Dense(64),\n",
    "        Dense(1,activation=None)\n",
    "    ])\n",
    "    \n",
    "features = input_variable(9)\n",
    "target = input_variable(1)\n",
    "\n",
    "z = model(features)"
   ]
  },
  {
   "cell_type": "markdown",
   "metadata": {},
   "source": [
    "## Preprocessing\n",
    "In this section we'll first preprocess the data so that it is compatible for use with our neural network.\n",
    "We need to load the data and then clean it up."
   ]
  },
  {
   "cell_type": "code",
   "execution_count": 12,
   "metadata": {},
   "outputs": [],
   "source": [
    "import pandas as pd\n",
    "import numpy as np"
   ]
  },
  {
   "cell_type": "code",
   "execution_count": 13,
   "metadata": {},
   "outputs": [],
   "source": [
    "df_cars = pd.read_csv('auto-mpg.csv', na_values=['?'])\n",
    "df_cars = df_cars.dropna()"
   ]
  },
  {
   "cell_type": "markdown",
   "metadata": {},
   "source": [
    "The origin column contains three possible values, as is shown in the dictionary below. To use the origin in the neural network we need to split it into three separate columns. For this we'll first replace the numeric values with a string value. After we've done that, we ask pandas to generate dummy columns. This creates three columns: usa, europa, and japan. For each sample in the dataset, one of these columns will contain a value of 1 and the rest will contain a value of 0."
   ]
  },
  {
   "cell_type": "code",
   "execution_count": 14,
   "metadata": {},
   "outputs": [],
   "source": [
    "origin_mapping = {\n",
    "    1: 'usa',\n",
    "    2: 'europe',\n",
    "    3: 'japan'\n",
    "}\n",
    "\n",
    "df_cars.replace({'origin': origin_mapping}, inplace=True)\n",
    "\n",
    "categorical_origin = pd.get_dummies(df_cars['origin'], prefix='origin')\n",
    "\n",
    "df_cars = pd.concat([df_cars, categorical_origin], axis=1)\n",
    "df_cars = df_cars.drop(columns=['origin', 'car name'])"
   ]
  },
  {
   "cell_type": "markdown",
   "metadata": {},
   "source": [
    "The final result of this operation is the following dataset. It contains 9 columns. Of these columns the `mpg` column is used as the target output. The rest is used as a feature for the model."
   ]
  },
  {
   "cell_type": "code",
   "execution_count": 15,
   "metadata": {},
   "outputs": [
    {
     "data": {
      "text/html": [
       "<div>\n",
       "<style scoped>\n",
       "    .dataframe tbody tr th:only-of-type {\n",
       "        vertical-align: middle;\n",
       "    }\n",
       "\n",
       "    .dataframe tbody tr th {\n",
       "        vertical-align: top;\n",
       "    }\n",
       "\n",
       "    .dataframe thead th {\n",
       "        text-align: right;\n",
       "    }\n",
       "</style>\n",
       "<table border=\"1\" class=\"dataframe\">\n",
       "  <thead>\n",
       "    <tr style=\"text-align: right;\">\n",
       "      <th></th>\n",
       "      <th>mpg</th>\n",
       "      <th>cylinders</th>\n",
       "      <th>displacement</th>\n",
       "      <th>horsepower</th>\n",
       "      <th>weight</th>\n",
       "      <th>acceleration</th>\n",
       "      <th>model year</th>\n",
       "      <th>origin_europe</th>\n",
       "      <th>origin_japan</th>\n",
       "      <th>origin_usa</th>\n",
       "    </tr>\n",
       "  </thead>\n",
       "  <tbody>\n",
       "    <tr>\n",
       "      <th>0</th>\n",
       "      <td>18.0</td>\n",
       "      <td>8</td>\n",
       "      <td>307.0</td>\n",
       "      <td>130.0</td>\n",
       "      <td>3504</td>\n",
       "      <td>12.0</td>\n",
       "      <td>70</td>\n",
       "      <td>0</td>\n",
       "      <td>0</td>\n",
       "      <td>1</td>\n",
       "    </tr>\n",
       "    <tr>\n",
       "      <th>1</th>\n",
       "      <td>15.0</td>\n",
       "      <td>8</td>\n",
       "      <td>350.0</td>\n",
       "      <td>165.0</td>\n",
       "      <td>3693</td>\n",
       "      <td>11.5</td>\n",
       "      <td>70</td>\n",
       "      <td>0</td>\n",
       "      <td>0</td>\n",
       "      <td>1</td>\n",
       "    </tr>\n",
       "    <tr>\n",
       "      <th>2</th>\n",
       "      <td>18.0</td>\n",
       "      <td>8</td>\n",
       "      <td>318.0</td>\n",
       "      <td>150.0</td>\n",
       "      <td>3436</td>\n",
       "      <td>11.0</td>\n",
       "      <td>70</td>\n",
       "      <td>0</td>\n",
       "      <td>0</td>\n",
       "      <td>1</td>\n",
       "    </tr>\n",
       "    <tr>\n",
       "      <th>3</th>\n",
       "      <td>16.0</td>\n",
       "      <td>8</td>\n",
       "      <td>304.0</td>\n",
       "      <td>150.0</td>\n",
       "      <td>3433</td>\n",
       "      <td>12.0</td>\n",
       "      <td>70</td>\n",
       "      <td>0</td>\n",
       "      <td>0</td>\n",
       "      <td>1</td>\n",
       "    </tr>\n",
       "    <tr>\n",
       "      <th>4</th>\n",
       "      <td>17.0</td>\n",
       "      <td>8</td>\n",
       "      <td>302.0</td>\n",
       "      <td>140.0</td>\n",
       "      <td>3449</td>\n",
       "      <td>10.5</td>\n",
       "      <td>70</td>\n",
       "      <td>0</td>\n",
       "      <td>0</td>\n",
       "      <td>1</td>\n",
       "    </tr>\n",
       "  </tbody>\n",
       "</table>\n",
       "</div>"
      ],
      "text/plain": [
       "    mpg  cylinders  displacement  horsepower  weight  acceleration  \\\n",
       "0  18.0          8         307.0       130.0    3504          12.0   \n",
       "1  15.0          8         350.0       165.0    3693          11.5   \n",
       "2  18.0          8         318.0       150.0    3436          11.0   \n",
       "3  16.0          8         304.0       150.0    3433          12.0   \n",
       "4  17.0          8         302.0       140.0    3449          10.5   \n",
       "\n",
       "   model year  origin_europe  origin_japan  origin_usa  \n",
       "0          70              0             0           1  \n",
       "1          70              0             0           1  \n",
       "2          70              0             0           1  \n",
       "3          70              0             0           1  \n",
       "4          70              0             0           1  "
      ]
     },
     "execution_count": 15,
     "metadata": {},
     "output_type": "execute_result"
    }
   ],
   "source": [
    "df_cars.head()"
   ]
  },
  {
   "cell_type": "code",
   "execution_count": 16,
   "metadata": {},
   "outputs": [],
   "source": [
    "X = df_cars.drop(columns=['mpg']).values.astype(np.float32)\n",
    "y = df_cars.iloc[:,0].values.reshape(-1,1).astype(np.float32)"
   ]
  },
  {
   "cell_type": "markdown",
   "metadata": {},
   "source": [
    "The data has some really extreme values that do not sit well with our neural network. When you run the training process without scaling the inputs you end up with exploding gradients in your neural network. So we apply standard scaling which scales the values to +1 and -1. "
   ]
  },
  {
   "cell_type": "code",
   "execution_count": 17,
   "metadata": {},
   "outputs": [],
   "source": [
    "from sklearn.preprocessing import StandardScaler\n",
    "\n",
    "scaler = StandardScaler()\n",
    "X = scaler.fit_transform(X)"
   ]
  },
  {
   "cell_type": "markdown",
   "metadata": {},
   "source": [
    "Now that we have a good dataset, we need to create a hold-out set to ensure that we validate the performance on data that we haven't used for training. This is important as this will tell us how the model performs on unseen data."
   ]
  },
  {
   "cell_type": "code",
   "execution_count": 18,
   "metadata": {},
   "outputs": [],
   "source": [
    "from sklearn.model_selection import train_test_split\n",
    "\n",
    "X_train, X_test, y_train, y_test = train_test_split(X, y, test_size=0.2)"
   ]
  },
  {
   "cell_type": "markdown",
   "metadata": {},
   "source": [
    "## Training the neural network\n",
    "Now that we have a neural network, let's train it using the training set.\n",
    "We're using a squared error loss function which is a regular loss that you will find in almost any regression model. We'll train the model using a SGD learner, which is the most basic learner around for CNTK.\n",
    "\n",
    "The criterion for training is the mean squared error function. Additionally we would like to measure the mean absolute error rate for the model. In order to do this, we need to create a CNTK function factory that produces a combination of these two. \n",
    "\n",
    "When you create a new function in python marked with `cntk.Function` annotation CNTK will automatically convert it to a function object that has a `train` method for training and a `test` method for validation. \n",
    "\n",
    "Since we don't have a mean absolute error function out-of-the-box we'll create it here as well using the standard CNTK operators."
   ]
  },
  {
   "cell_type": "code",
   "execution_count": 19,
   "metadata": {},
   "outputs": [],
   "source": [
    "import cntk \n",
    "from cntk.losses import squared_error\n",
    "\n",
    "def absolute_error(output, target):\n",
    "    return cntk.ops.reduce_mean(cntk.ops.abs(output - target))\n",
    "\n",
    "@cntk.Function\n",
    "def criterion_factory(output, target):\n",
    "    loss = squared_error(output, target)\n",
    "    metric = absolute_error(output, target)\n",
    "    \n",
    "    return loss, metric"
   ]
  },
  {
   "cell_type": "code",
   "execution_count": 21,
   "metadata": {
    "scrolled": true
   },
   "outputs": [
    {
     "name": "stdout",
     "output_type": "stream",
     "text": [
      " average      since    average      since      examples\n",
      "    loss       last     metric       last              \n",
      " ------------------------------------------------------\n",
      "Learning rate per minibatch: 0.001\n",
      "      627        627         24         24            16\n",
      "      587        567       22.9       22.4            48\n",
      "      541        506         22       21.3           112\n",
      "      424        322       19.3       16.9           240\n",
      "     63.1       63.1       7.29       7.29            16\n",
      "     33.9       19.3       4.73       3.45            48\n",
      "     29.4         26       4.39       4.14           112\n",
      "     25.5         22       3.98       3.62           240\n",
      "     19.1       19.1       3.99       3.99            16\n",
      "     9.76       5.12       2.56       1.85            48\n",
      "     9.42       9.16       2.44       2.36           112\n",
      "     11.7       13.7       2.63       2.78           240\n",
      "     16.1       16.1       3.44       3.44            16\n",
      "     8.64       4.91       2.27       1.69            48\n",
      "     7.73       7.04       2.15       2.06           112\n",
      "     9.84       11.7       2.36       2.54           240\n",
      "     14.1       14.1        3.2        3.2            16\n",
      "     7.75       4.59        2.1       1.55            48\n",
      "     6.84       6.16          2       1.92           112\n",
      "     8.83       10.6        2.2       2.37           240\n",
      "     12.6       12.6       3.01       3.01            16\n",
      "     7.07       4.29       1.97       1.45            48\n",
      "     6.27       5.68       1.89       1.83           112\n",
      "     8.19       9.87       2.09       2.26           240\n",
      "     11.6       11.6       2.88       2.88            16\n",
      "     6.58       4.04       1.87       1.37            48\n",
      "     5.89       5.38       1.82       1.77           112\n",
      "     7.77       9.42       2.01       2.18           240\n",
      "     10.9       10.9       2.77       2.77            16\n",
      "     6.21       3.85       1.81       1.33            48\n",
      "     5.63        5.2       1.77       1.74           112\n",
      "     7.47       9.09       1.96       2.13           240\n",
      "     10.4       10.4       2.69       2.69            16\n",
      "     5.94       3.68       1.78       1.32            48\n",
      "     5.44       5.07       1.75       1.73           112\n",
      "     7.26       8.84       1.93       2.09           240\n",
      "     10.1       10.1       2.65       2.65            16\n",
      "     5.73       3.56       1.76       1.31            48\n",
      "      5.3       4.99       1.73       1.72           112\n",
      "     7.09       8.66       1.91       2.07           240\n",
      "     9.73       9.73       2.61       2.61            16\n",
      "     5.55       3.45       1.73       1.29            48\n",
      "     5.19       4.93       1.72       1.71           112\n",
      "     6.96       8.51       1.89       2.04           240\n",
      "     9.46       9.46       2.58       2.58            16\n",
      "     5.39       3.36       1.71       1.28            48\n",
      "     5.09       4.87       1.71        1.7           112\n",
      "     6.85       8.38       1.88       2.02           240\n",
      "     9.19       9.19       2.55       2.55            16\n",
      "     5.24       3.26       1.69       1.26            48\n",
      "     4.99       4.81       1.69       1.69           112\n",
      "     6.74       8.27       1.86       2.01           240\n",
      "     8.92       8.92       2.51       2.51            16\n",
      "      5.1       3.19       1.68       1.26            48\n",
      "      4.9       4.75       1.68       1.68           112\n",
      "     6.64       8.16       1.85       1.99           240\n",
      "     8.65       8.65       2.47       2.47            16\n",
      "     4.96       3.12       1.66       1.26            48\n",
      "     4.81        4.7       1.67       1.68           112\n",
      "     6.55       8.07       1.84       1.98           240\n",
      "     8.39       8.39       2.44       2.44            16\n",
      "     4.83       3.06       1.65       1.25            48\n",
      "     4.72       4.64       1.66       1.67           112\n",
      "     6.46       7.98       1.82       1.97           240\n",
      "     8.12       8.12        2.4        2.4            16\n",
      "     4.69       2.97       1.63       1.24            48\n",
      "     4.64        4.6       1.65       1.67           112\n",
      "     6.38        7.9       1.81       1.96           240\n",
      "     7.94       7.94       2.37       2.37            16\n",
      "     4.58       2.91       1.61       1.23            48\n",
      "     4.58       4.57       1.64       1.66           112\n",
      "     6.31       7.83        1.8       1.95           240\n",
      "     7.76       7.76       2.34       2.34            16\n",
      "     4.48       2.85        1.6       1.22            48\n",
      "     4.52       4.54       1.63       1.66           112\n",
      "     6.25       7.77        1.8       1.94           240\n",
      "     7.61       7.61       2.32       2.32            16\n",
      "      4.4        2.8       1.58       1.22            48\n",
      "     4.47       4.51       1.62       1.65           112\n",
      "      6.2       7.72       1.79       1.93           240\n",
      "     7.47       7.47        2.3        2.3            16\n",
      "     4.32       2.75       1.57       1.21            48\n",
      "     4.42       4.49       1.62       1.65           112\n",
      "     6.15       7.67       1.78       1.92           240\n",
      "     7.34       7.34       2.27       2.27            16\n",
      "     4.25       2.71       1.56        1.2            48\n",
      "     4.37       4.46       1.61       1.64           112\n",
      "     6.11       7.63       1.77       1.92           240\n",
      "     7.22       7.22       2.25       2.25            16\n",
      "     4.19       2.68       1.55        1.2            48\n",
      "     4.32       4.42        1.6       1.64           112\n",
      "     6.07       7.59       1.77       1.91           240\n",
      "     7.11       7.11       2.23       2.23            16\n",
      "     4.13       2.64       1.54       1.19            48\n",
      "     4.27       4.38       1.59       1.63           112\n",
      "     6.02       7.55       1.76       1.91           240\n",
      "     7.01       7.01       2.22       2.22            16\n",
      "     4.08       2.61       1.53       1.18            48\n",
      "     4.23       4.35       1.58       1.63           112\n",
      "     5.98       7.52       1.75        1.9           240\n",
      "     6.92       6.92        2.2        2.2            16\n",
      "     4.03       2.58       1.52       1.18            48\n",
      "     4.19       4.31       1.58       1.62           112\n",
      "     5.95       7.48       1.75        1.9           240\n",
      "     6.82       6.82       2.18       2.18            16\n",
      "     3.98       2.56       1.51       1.17            48\n",
      "     4.15       4.28       1.57       1.61           112\n",
      "     5.91       7.44       1.74       1.89           240\n",
      "     6.75       6.75       2.17       2.17            16\n",
      "     3.94       2.54        1.5       1.17            48\n",
      "     4.12       4.25       1.56       1.61           112\n",
      "     5.88       7.41       1.74       1.89           240\n",
      "     6.68       6.68       2.15       2.15            16\n",
      "      3.9       2.51       1.49       1.16            48\n",
      "     4.08       4.22       1.55        1.6           112\n",
      "     5.83       7.37       1.73       1.88           240\n",
      "     6.61       6.61       2.14       2.14            16\n",
      "     3.87        2.5       1.49       1.16            48\n",
      "     4.05       4.18       1.55        1.6           112\n",
      "      5.8       7.33       1.73       1.88           240\n",
      "     6.54       6.54       2.12       2.12            16\n",
      "     3.84       2.49       1.48       1.16            48\n",
      "     4.02       4.16       1.54       1.59           112\n",
      "     5.77        7.3       1.72       1.88           240\n",
      "     6.49       6.49       2.11       2.11            16\n",
      "     3.81       2.47       1.48       1.16            48\n",
      "     3.99       4.12       1.54       1.58           112\n",
      "     5.74       7.27       1.72       1.87           240\n",
      "     6.43       6.43        2.1        2.1            16\n",
      "     3.78       2.46       1.47       1.15            48\n",
      "     3.96        4.1       1.53       1.58           112\n",
      "     5.71       7.24       1.71       1.87           240\n",
      "     6.37       6.37       2.09       2.09            16\n",
      "     3.75       2.44       1.46       1.15            48\n",
      "     3.93       4.07       1.53       1.57           112\n",
      "     5.68        7.2       1.71       1.87           240\n",
      "     6.32       6.32       2.08       2.08            16\n",
      "     3.72       2.42       1.46       1.14            48\n",
      "     3.91       4.05       1.52       1.57           112\n",
      "     5.65       7.17        1.7       1.86           240\n",
      "     6.27       6.27       2.07       2.07            16\n",
      "      3.7       2.42       1.45       1.14            48\n",
      "     3.88       4.02       1.52       1.57           112\n",
      "     5.62       7.15        1.7       1.86           240\n",
      "     6.23       6.23       2.06       2.06            16\n"
     ]
    },
    {
     "name": "stdout",
     "output_type": "stream",
     "text": [
      "     3.67        2.4       1.45       1.14            48\n",
      "     3.86          4       1.51       1.56           112\n",
      "      5.6       7.12        1.7       1.86           240\n",
      "     6.18       6.18       2.05       2.05            16\n",
      "     3.65       2.39       1.44       1.14            48\n",
      "     3.84       3.98       1.51       1.56           112\n",
      "     5.57       7.09       1.69       1.85           240\n",
      "     6.13       6.13       2.04       2.04            16\n",
      "     3.63       2.38       1.44       1.14            48\n",
      "     3.81       3.95        1.5       1.55           112\n",
      "     5.55       7.07       1.69       1.85           240\n",
      "     6.08       6.08       2.02       2.02            16\n",
      "      3.6       2.36       1.43       1.13            48\n",
      "     3.79       3.93        1.5       1.55           112\n",
      "     5.53       7.05       1.68       1.85           240\n",
      "     6.05       6.05       2.02       2.02            16\n",
      "     3.59       2.36       1.43       1.13            48\n",
      "     3.77       3.91       1.49       1.54           112\n",
      "     5.51       7.03       1.68       1.84           240\n",
      "     6.01       6.01       2.01       2.01            16\n",
      "     3.57       2.35       1.42       1.13            48\n",
      "     3.75       3.89       1.49       1.54           112\n",
      "     5.49       7.01       1.68       1.84           240\n",
      "     5.98       5.98          2          2            16\n",
      "     3.55       2.34       1.42       1.13            48\n",
      "     3.73       3.87       1.49       1.54           112\n",
      "     5.47       6.99       1.68       1.84           240\n",
      "     5.94       5.94       1.99       1.99            16\n",
      "     3.54       2.34       1.42       1.13            48\n",
      "     3.72       3.85       1.48       1.53           112\n",
      "     5.45       6.97       1.67       1.84           240\n",
      "     5.93       5.93       1.98       1.98            16\n",
      "     3.53       2.33       1.42       1.13            48\n",
      "      3.7       3.83       1.48       1.53           112\n",
      "     5.43       6.94       1.67       1.84           240\n",
      "     5.86       5.86       1.97       1.97            16\n",
      "     3.51       2.33       1.41       1.13            48\n",
      "     3.68       3.81       1.48       1.52           112\n",
      "     5.41       6.92       1.67       1.83           240\n",
      "     5.84       5.84       1.96       1.96            16\n",
      "     3.49       2.32       1.41       1.13            48\n",
      "     3.66       3.79       1.47       1.52           112\n",
      "     5.39        6.9       1.66       1.83           240\n",
      "      5.8        5.8       1.96       1.96            16\n",
      "     3.48       2.32       1.41       1.13            48\n",
      "     3.65       3.77       1.47       1.52           112\n",
      "     5.37       6.88       1.66       1.83           240\n",
      "     5.75       5.75       1.94       1.94            16\n",
      "     3.46       2.31        1.4       1.13            48\n",
      "     3.63       3.75       1.46       1.51           112\n",
      "     5.35       6.86       1.66       1.82           240\n",
      "      5.7        5.7       1.93       1.93            16\n",
      "     3.44        2.3       1.39       1.13            48\n",
      "     3.61       3.74       1.46       1.51           112\n",
      "     5.33       6.83       1.65       1.82           240\n"
     ]
    }
   ],
   "source": [
    "from cntk.logging import ProgressPrinter\n",
    "from cntk.losses import squared_error\n",
    "from cntk.learners import sgd\n",
    "\n",
    "loss = criterion_factory(z, target)\n",
    "learner = sgd(z.parameters, 0.001)\n",
    "\n",
    "progress_printer = ProgressPrinter(0)\n",
    "\n",
    "train_summary = loss.train((X_train,y_train), \n",
    "                           parameter_learners=[learner], \n",
    "                           callbacks=[progress_printer],\n",
    "                           minibatch_size=16,\n",
    "                           max_epochs=50)"
   ]
  },
  {
   "cell_type": "markdown",
   "metadata": {},
   "source": [
    "The output of the training session is looking promising, you can see that the loss is going down quite nicely. It's not perfect, but not bad for a first attempt."
   ]
  },
  {
   "cell_type": "markdown",
   "metadata": {},
   "source": [
    "## Evaluating model performance\n",
    "In order to measure the performance of our model we're going first going to use the squared error function from CNTK.\n",
    "This gives us an rough idea of the error rate of the model. But this is in squares so it is quite hard to read depending on your background.\n",
    "\n",
    "As an alternative we'll also use the mean absolute error metric. This gives a more understandable error rate.\n",
    "This metric gives us a good idea of just how much we're off predicting the miles per gallon.\n",
    "\n",
    "CNTK doesn't include a mean absolute error function, but you can easily create it yourself using the standard CNTK ops.\n",
    "\n",
    "We're using the test method on the metric to determine how well our model is doing. This is different from the classification model where we had to do quite a bit more to measure the performance of our model."
   ]
  },
  {
   "cell_type": "markdown",
   "metadata": {},
   "source": [
    "The output of the `test` method tells us how many miles per gallon the model is off on average when predicting based on the test set we created earlier."
   ]
  },
  {
   "cell_type": "code",
   "execution_count": 22,
   "metadata": {},
   "outputs": [
    {
     "data": {
      "text/plain": [
       "{'metric': 2.4377947457229037, 'samples': 79}"
      ]
     },
     "execution_count": 22,
     "metadata": {},
     "output_type": "execute_result"
    }
   ],
   "source": [
    "loss.test((X_test, y_test))"
   ]
  },
  {
   "cell_type": "code",
   "execution_count": null,
   "metadata": {},
   "outputs": [],
   "source": []
  }
 ],
 "metadata": {
  "kernelspec": {
   "display_name": "Python 3",
   "language": "python",
   "name": "python3"
  },
  "language_info": {
   "codemirror_mode": {
    "name": "ipython",
    "version": 3
   },
   "file_extension": ".py",
   "mimetype": "text/x-python",
   "name": "python",
   "nbconvert_exporter": "python",
   "pygments_lexer": "ipython3",
   "version": "3.6.7"
  }
 },
 "nbformat": 4,
 "nbformat_minor": 2
}
