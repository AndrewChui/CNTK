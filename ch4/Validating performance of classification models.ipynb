{
 "cells": [
  {
   "cell_type": "markdown",
   "metadata": {},
   "source": [
    "# Validating performance of classification models\n",
    "This notebook takes you through the steps to train and evaluate a classification model using a confusion matrix and the F-Measure."
   ]
  },
  {
   "cell_type": "markdown",
   "metadata": {},
   "source": [
    "## The model\n",
    "We're using the iris flower classification model from previous chapters. \n",
    "The model has 4 input neurons and 3 output neurons. We'll be using a softmax activation on the output layer to create a classification model."
   ]
  },
  {
   "cell_type": "code",
   "execution_count": 147,
   "metadata": {},
   "outputs": [],
   "source": [
    "from cntk import default_options, input_variable\n",
    "from cntk.layers import Dense, Sequential\n",
    "from cntk.ops import log_softmax, relu, sigmoid\n",
    "\n",
    "model = Sequential([\n",
    "    Dense(4, activation=relu),\n",
    "    Dense(3, activation=log_softmax)\n",
    "])\n",
    "\n",
    "features = input_variable(4)\n",
    "labels = input_variable(3)\n",
    "\n",
    "z = model(features)"
   ]
  },
  {
   "cell_type": "markdown",
   "metadata": {},
   "source": [
    "## Data preprocessing\n",
    "We're going to use the original CSV file for the iris dataset.\n",
    "It contains four columns with features. The final column is the label (the species of the sample).\n",
    "\n",
    "The labels are stored as string and we need to have a binary encoded variant.\n",
    "So we'll use a Binarizer from scikit-learn to encode the labels in the proper format."
   ]
  },
  {
   "cell_type": "code",
   "execution_count": 148,
   "metadata": {},
   "outputs": [],
   "source": [
    "import numpy as np\n",
    "import pandas as pd\n",
    "\n",
    "from sklearn.preprocessing import LabelBinarizer\n",
    "\n",
    "df_source = pd.read_csv('iris.csv', \n",
    "    names=['sepal_length', 'sepal_width','petal_length','petal_width', 'species'], \n",
    "    index_col=False)\n",
    "\n",
    "label_encoder = LabelBinarizer()\n",
    "\n",
    "X = df_source.iloc[:, :4].values\n",
    "y = df_source.iloc[:, -1:].values\n",
    "\n",
    "y = label_encoder.fit_transform(y)\n",
    "\n",
    "X = X.astype(np.float32)\n",
    "y = y.astype(np.float32)"
   ]
  },
  {
   "cell_type": "markdown",
   "metadata": {},
   "source": [
    "## Split the dataset into a training and test set\n",
    "Before we start training, we'll split the dataset into a training and test set using the `train_test_split` function from scikit-learn. This gives us a small set of samples to later validate the model on."
   ]
  },
  {
   "cell_type": "code",
   "execution_count": 149,
   "metadata": {},
   "outputs": [],
   "source": [
    "from sklearn.model_selection import train_test_split\n",
    "\n",
    "X_train, X_test, y_train, y_test = train_test_split(X,y, test_size=0.2, stratify=y)"
   ]
  },
  {
   "cell_type": "markdown",
   "metadata": {},
   "source": [
    "## Train the model\n",
    "Now that we have a dataset, let's train the model with it.\n",
    "For this we define a loss and a learner. We can then use the loss to train the model."
   ]
  },
  {
   "cell_type": "code",
   "execution_count": 150,
   "metadata": {},
   "outputs": [],
   "source": [
    "import cntk\n",
    "\n",
    "@cntk.Function\n",
    "def criterion_factory(output, target):\n",
    "    loss = cntk.losses.cross_entropy_with_softmax(output, target)\n",
    "    \n",
    "    # Comment this line and uncomment the next line to switch to the F-Measure metric.\n",
    "    # Note: This only works for CNTK 2.6!\n",
    "    #metric = cntk.metrics.classification_error(output, target)\n",
    "    metric = cntk.losses.fmeasure(output, target, beta=1)\n",
    "    \n",
    "    return loss, metric"
   ]
  },
  {
   "cell_type": "code",
   "execution_count": 151,
   "metadata": {},
   "outputs": [
    {
     "name": "stdout",
     "output_type": "stream",
     "text": [
      " average      since    average      since      examples\n",
      "    loss       last     metric       last              \n",
      " ------------------------------------------------------\n",
      "Learning rate per minibatch: 0.1\n",
      "     1.95       1.95      0.231      0.231            16\n",
      "     1.45       1.21      0.303      0.339            48\n",
      "     1.08      0.792      0.403      0.478           112\n",
      "    0.918      0.918      0.443      0.443            16\n",
      "    0.786       0.72      0.519      0.556            48\n",
      "    0.683      0.605      0.594      0.651           112\n",
      "     0.73       0.73      0.654      0.654            16\n",
      "    0.634      0.586      0.653      0.653            48\n",
      "    0.557      0.499      0.701      0.736           112\n",
      "    0.642      0.642      0.727      0.727            16\n",
      "    0.554       0.51      0.722       0.72            48\n",
      "    0.496      0.452      0.755      0.779           112\n",
      "    0.539      0.539      0.777      0.777            16\n",
      "    0.484      0.456      0.776      0.776            48\n",
      "    0.437      0.402        0.8      0.818           112\n",
      "    0.897      0.897      0.751      0.751            16\n",
      "      0.6      0.451      0.763      0.769            48\n",
      "    0.519      0.459      0.786      0.803           112\n",
      "    0.409      0.409      0.833      0.833            16\n",
      "    0.409      0.409       0.83      0.828            48\n",
      "    0.458      0.495      0.821      0.814           112\n",
      "    0.928      0.928      0.783      0.783            16\n",
      "    0.608      0.447      0.788       0.79            48\n",
      "    0.505      0.428      0.807      0.821           112\n",
      "    0.389      0.389      0.854      0.854            16\n",
      "    0.376      0.369      0.855      0.856            48\n",
      "    0.388      0.398      0.854      0.853           112\n",
      "    0.976      0.976      0.799      0.799            16\n",
      "    0.611      0.428      0.809      0.814            48\n",
      "    0.494      0.407      0.827       0.84           112\n",
      "    0.348      0.348      0.872      0.872            16\n",
      "    0.342      0.339      0.874      0.874            48\n",
      "    0.367      0.386      0.869      0.865           112\n",
      "    0.877      0.877      0.821      0.821            16\n",
      "    0.534      0.363      0.844      0.856            48\n",
      "    0.427      0.347      0.859       0.87           112\n",
      "    0.305      0.305      0.891      0.891            16\n",
      "    0.312      0.315      0.891      0.891            48\n",
      "    0.381      0.433      0.874      0.861           112\n",
      "    0.753      0.753      0.841      0.841            16\n",
      "    0.454      0.304      0.874      0.891            48\n",
      "    0.333      0.243      0.897      0.914           112\n",
      "    0.346      0.346      0.892      0.892            16\n",
      "    0.323      0.312      0.899      0.902            48\n",
      "    0.449      0.544      0.867      0.844           112\n"
     ]
    }
   ],
   "source": [
    "from cntk.losses import cross_entropy_with_softmax\n",
    "from cntk.learners import sgd \n",
    "from cntk.logging import ProgressPrinter\n",
    "\n",
    "progress_writer = ProgressPrinter(0)\n",
    "loss = criterion_factory(z, labels)\n",
    "learner = sgd(z.parameters, 0.1)\n",
    "\n",
    "train_summary = loss.train((X_train,y_train), \n",
    "                           parameter_learners=[learner], \n",
    "                           callbacks=[progress_writer], \n",
    "                           minibatch_size=16, max_epochs=15)"
   ]
  },
  {
   "cell_type": "markdown",
   "metadata": {},
   "source": [
    "## Validating the model\n",
    "After the model is trained, we can start the validation process. We're going to perform two kinds of validation.\n",
    "First, we'll look at a confusion matrix to understand how the model is doing on specific species of flowers. After that we'll also calculate the classification error."
   ]
  },
  {
   "cell_type": "markdown",
   "metadata": {},
   "source": [
    "### Using a confusion matrix\n",
    "We can use the `confusion_matrix` function from scikit-learn to create a confusion matrix. This functions needs to know the real labels for our test samples and the predicted labels for the same test samples. Both of these sets of values need to be numeric.\n",
    "\n",
    "The true labels and predicted labels are both binary encoded as is required by  our model. You can convert these binary representations into numeric values using the `argmax` function. We'll run it over all the samples to convert the one-hot vectors into their numeric version. \n",
    "\n",
    "We do the same for the predictions. We'll take the `argmax` function and pass in the output of the neural network. Notice, our neural network is a function so we can call it with the test set directly. The `y_pred` variable now contains the numeric value of the predicted classes.\n",
    "\n",
    "Once we have the true labels and the predicted labels we can calculate a confusion matrix."
   ]
  },
  {
   "cell_type": "code",
   "execution_count": 152,
   "metadata": {
    "scrolled": true
   },
   "outputs": [
    {
     "name": "stdout",
     "output_type": "stream",
     "text": [
      "[[10  0  0]\n",
      " [ 0  1  9]\n",
      " [ 0  0 10]]\n"
     ]
    }
   ],
   "source": [
    "from sklearn.metrics import confusion_matrix\n",
    "\n",
    "y_true = np.argmax(y_test, axis=1)\n",
    "y_pred = np.argmax(z(X_test), axis=1)\n",
    "\n",
    "matrix = confusion_matrix(y_true=y_true, y_pred=y_pred)\n",
    "\n",
    "print(matrix)"
   ]
  },
  {
   "cell_type": "markdown",
   "metadata": {},
   "source": [
    "We now have a bunch of numbers that don't look pretty or understandable. We need to visualize them to see what we're dealing with. The function below demonstrates how to visualize a confusion matrix using a heatmap from seaborn.\n",
    "\n",
    "**Important** Make sure you have `seaborn` installed by running `pip install seaborn` in an anaconda prompt."
   ]
  },
  {
   "cell_type": "code",
   "execution_count": 153,
   "metadata": {},
   "outputs": [
    {
     "data": {
      "image/png": "[encoded data removed]",
      "text/plain": [
       "<Figure size 432x288 with 2 Axes>"
      ]
     },
     "metadata": {
      "needs_background": "light"
     },
     "output_type": "display_data"
    }
   ],
   "source": [
    "import seaborn as sns\n",
    "import matplotlib.pyplot as plt\n",
    "\n",
    "g = sns.heatmap(matrix, \n",
    "                annot=True, \n",
    "                xticklabels=label_encoder.classes_.tolist(), \n",
    "                yticklabels=label_encoder.classes_.tolist(), \n",
    "                cmap='Blues')\n",
    "\n",
    "g.set_yticklabels(g.get_yticklabels(), rotation=0)\n",
    "\n",
    "g.set_xlabel('Predicted species')\n",
    "g.set_ylabel('Actual species')\n",
    "g.set_title('Confusion matrix for iris prediction model')\n",
    "\n",
    "plt.show()"
   ]
  },
  {
   "cell_type": "markdown",
   "metadata": {},
   "source": [
    "### Using the classification error function\n",
    "You will have noticed that the confusion matrix isn't too bad for this smaller model. But it's still nice to have a single performance number that we can use to compare models later on.\n",
    "\n",
    "To calculate the classification error, you need to use the `classification_error` function from the metrics package in CNTK. To measure the performance using this function you need to invoke it with the right settings and then use the `test` method to calculate the output."
   ]
  },
  {
   "cell_type": "code",
   "execution_count": 154,
   "metadata": {},
   "outputs": [
    {
     "data": {
      "text/plain": [
       "{'metric': 0.831014887491862, 'samples': 30}"
      ]
     },
     "execution_count": 154,
     "metadata": {},
     "output_type": "execute_result"
    }
   ],
   "source": [
    "loss.test([X_test, y_test])"
   ]
  }
 ],
 "metadata": {
  "kernelspec": {
   "display_name": "Python 3",
   "language": "python",
   "name": "python3"
  },
  "language_info": {
   "codemirror_mode": {
    "name": "ipython",
    "version": 3
   },
   "file_extension": ".py",
   "mimetype": "text/x-python",
   "name": "python",
   "nbconvert_exporter": "python",
   "pygments_lexer": "ipython3",
   "version": "3.6.7"
  }
 },
 "nbformat": 4,
 "nbformat_minor": 2
}
