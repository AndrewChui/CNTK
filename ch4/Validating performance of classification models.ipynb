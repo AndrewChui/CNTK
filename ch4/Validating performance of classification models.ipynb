{
 "cells": [
  {
   "cell_type": "markdown",
   "metadata": {},
   "source": [
    "# Validating performance of classification models\n",
    "This notebook takes you through the steps to train and evaluate a classification model using a confusion matrix and the F-Measure."
   ]
  },
  {
   "cell_type": "markdown",
   "metadata": {},
   "source": [
    "## The model\n",
    "We're using the iris flower classification model from previous chapters. \n",
    "The model has 4 input neurons and 3 output neurons. We'll be using a softmax activation on the output layer to create a classification model."
   ]
  },
  {
   "cell_type": "code",
   "execution_count": 51,
   "metadata": {},
   "outputs": [],
   "source": [
    "from cntk import default_options, input_variable\n",
    "from cntk.layers import Dense, Sequential\n",
    "from cntk.ops import log_softmax, relu, sigmoid\n",
    "\n",
    "model = Sequential([\n",
    "    Dense(4, activation=relu),\n",
    "    Dense(3, activation=log_softmax)\n",
    "])\n",
    "\n",
    "features = input_variable(4)\n",
    "labels = input_variable(3)\n",
    "\n",
    "z = model(features)"
   ]
  },
  {
   "cell_type": "markdown",
   "metadata": {},
   "source": [
    "## Data preprocessing\n",
    "We're going to use the original CSV file for the iris dataset.\n",
    "It contains four columns with features. The final column is the label (the species of the sample).\n",
    "\n",
    "The labels are stored as string and we need to have a binary encoded variant.\n",
    "So we'll use a Binarizer from scikit-learn to encode the labels in the proper format."
   ]
  },
  {
   "cell_type": "code",
   "execution_count": 52,
   "metadata": {},
   "outputs": [],
   "source": [
    "import numpy as np\n",
    "import pandas as pd\n",
    "\n",
    "from sklearn.preprocessing import LabelBinarizer\n",
    "\n",
    "df_source = pd.read_csv('iris.csv', \n",
    "    names=['sepal_length', 'sepal_width','petal_length','petal_width', 'species'], \n",
    "    index_col=False)\n",
    "\n",
    "label_encoder = LabelBinarizer()\n",
    "\n",
    "X = df_source.iloc[:, :4].values\n",
    "y = df_source.iloc[:, -1:].values\n",
    "\n",
    "y = label_encoder.fit_transform(y)\n",
    "\n",
    "X = X.astype(np.float32)\n",
    "y = y.astype(np.float32)"
   ]
  },
  {
   "cell_type": "markdown",
   "metadata": {},
   "source": [
    "## Split the dataset into a training and test set\n",
    "Before we start training, we'll split the dataset into a training and test set using the `train_test_split` function from scikit-learn. This gives us a small set of samples to later validate the model on."
   ]
  },
  {
   "cell_type": "code",
   "execution_count": 53,
   "metadata": {},
   "outputs": [],
   "source": [
    "from sklearn.model_selection import train_test_split\n",
    "\n",
    "X_train, X_test, y_train, y_test = train_test_split(X,y, test_size=0.2)"
   ]
  },
  {
   "cell_type": "markdown",
   "metadata": {},
   "source": [
    "## Train the model\n",
    "Now that we have a dataset, let's train the model with it.\n",
    "For this we define a loss and a learner. We can then use the loss to train the model."
   ]
  },
  {
   "cell_type": "code",
   "execution_count": 80,
   "metadata": {},
   "outputs": [
    {
     "name": "stdout",
     "output_type": "stream",
     "text": [
      " average      since    average      since      examples\n",
      "    loss       last     metric       last              \n",
      " ------------------------------------------------------\n",
      "Learning rate per minibatch: 0.1\n",
      "    0.369      0.369          0          0            16\n",
      "    0.437       0.47          0          0            48\n",
      "    0.418      0.403          0          0           112\n",
      "    0.352      0.352          0          0            16\n",
      "    0.419      0.453          0          0            48\n",
      "    0.422      0.425          0          0           112\n",
      "    0.347      0.347          0          0            16\n",
      "    0.479      0.544          0          0            48\n",
      "    0.396      0.335          0          0           112\n",
      "     0.32       0.32          0          0            16\n",
      "    0.349      0.364          0          0            48\n",
      "    0.398      0.435          0          0           112\n",
      "    0.304      0.304          0          0            16\n",
      "    0.364      0.395          0          0            48\n",
      "    0.412      0.447          0          0           112\n",
      "    0.302      0.302          0          0            16\n",
      "    0.383      0.424          0          0            48\n",
      "    0.403      0.418          0          0           112\n",
      "    0.294      0.294          0          0            16\n",
      "    0.381      0.424          0          0            48\n",
      "    0.341      0.312          0          0           112\n",
      "    0.261      0.261          0          0            16\n",
      "    0.336      0.373          0          0            48\n",
      "    0.407      0.459          0          0           112\n",
      "     0.27       0.27          0          0            16\n",
      "      0.4      0.465          0          0            48\n",
      "    0.347      0.307          0          0           112\n",
      "    0.235      0.235          0          0            16\n",
      "    0.365       0.43          0          0            48\n",
      "    0.437      0.492          0          0           112\n",
      "    0.463      0.463          0          0            16\n",
      "    0.434      0.419          0          0            48\n",
      "    0.326      0.245          0          0           112\n",
      "    0.213      0.213          0          0            16\n",
      "    0.316      0.368          0          0            48\n",
      "     0.42      0.498          0          0           112\n",
      "     0.26       0.26          0          0            16\n",
      "    0.454      0.551          0          0            48\n",
      "    0.345      0.263          0          0           112\n",
      "    0.203      0.203          0          0            16\n",
      "    0.365      0.445          0          0            48\n",
      "    0.337      0.316          0          0           112\n",
      "    0.192      0.192          0          0            16\n",
      "     0.37      0.459          0          0            48\n",
      "    0.341       0.32          0          0           112\n"
     ]
    }
   ],
   "source": [
    "from cntk.losses import cross_entropy_with_softmax\n",
    "from cntk.learners import sgd \n",
    "from cntk.logging import ProgressPrinter\n",
    "\n",
    "progress_writer = ProgressPrinter(0)\n",
    "loss = cross_entropy_with_softmax(z, labels)\n",
    "learner = sgd(z.parameters, 0.1)\n",
    "\n",
    "train_summary = loss.train((X_train,y_train), \n",
    "                           parameter_learners=[learner], \n",
    "                           callbacks=[progress_writer], \n",
    "                           minibatch_size=16, max_epochs=15)"
   ]
  },
  {
   "cell_type": "markdown",
   "metadata": {},
   "source": [
    "## Validating the model\n",
    "After the model is trained, we can start the validation process. We're going to perform two kinds of validation.\n",
    "First, we'll look at a confusion matrix to understand how the model is doing on specific species of flowers. After that we'll also calculate the F-Measure."
   ]
  },
  {
   "cell_type": "markdown",
   "metadata": {},
   "source": [
    "### Using a confusion matrix\n",
    "We can use the `confusion_matrix` function from scikit-learn to create a confusion matrix. This functions needs to know the real labels for our test samples and the predicted labels for the same test samples. Both of these sets of values need to be numeric.\n",
    "\n",
    "The true labels and predicted labels are both binary encoded as is required by  our model. You can convert these binary representations into numeric values using the `argmax` function. We'll run it over all the samples to convert the one-hot vectors into their numeric version. \n",
    "\n",
    "We do the same for the predictions. We'll take the `argmax` function and pass in the output of the neural network. Notice, our neural network is a function so we can call it with the test set directly. The `y_pred` variable now contains the numeric value of the predicted classes.\n",
    "\n",
    "Once we have the true labels and the predicted labels we can calculate a confusion matrix."
   ]
  },
  {
   "cell_type": "code",
   "execution_count": 56,
   "metadata": {},
   "outputs": [],
   "source": [
    "from sklearn.metrics import confusion_matrix\n",
    "\n",
    "y_true = np.argmax(y_test, axis=1)\n",
    "y_pred = np.argmax(z(X_test), axis=1)\n",
    "\n",
    "matrix = confusion_matrix(y_true=y_true, y_pred=y_pred)"
   ]
  },
  {
   "cell_type": "markdown",
   "metadata": {},
   "source": [
    "We now have a bunch of numbers that don't look pretty or understandable. We need to visualize them to see what we're dealing with. The function below demonstrates how to visualize a confusion matrix using a heatmap from seaborn.\n",
    "\n",
    "**Important** Make sure you have `seaborn` installed by running `pip install seaborn` in an anaconda prompt."
   ]
  },
  {
   "cell_type": "code",
   "execution_count": 79,
   "metadata": {},
   "outputs": [
    {
     "data": {
      "image/png": "[encoded data removed]",
      "text/plain": [
       "<Figure size 432x288 with 2 Axes>"
      ]
     },
     "metadata": {
      "needs_background": "light"
     },
     "output_type": "display_data"
    }
   ],
   "source": [
    "import seaborn as sns\n",
    "import matplotlib.pyplot as plt\n",
    "\n",
    "g = sns.heatmap(matrix, \n",
    "                annot=True, \n",
    "                xticklabels=label_encoder.classes_.tolist(), \n",
    "                yticklabels=label_encoder.classes_.tolist(), \n",
    "                cmap='Blues')\n",
    "\n",
    "g.set_yticklabels(g.get_yticklabels(), rotation=0)\n",
    "\n",
    "g.set_xlabel('Predicted species')\n",
    "g.set_ylabel('Actual species')\n",
    "g.set_title('Confusion matrix for iris prediction model')\n",
    "\n",
    "plt.show()"
   ]
  },
  {
   "cell_type": "markdown",
   "metadata": {},
   "source": [
    "### Using the F-Measure function\n",
    "You will have noticed that the confusion matrix isn't too bad for this smaller model. But it's still nice to have a single performance number that we can use to compare models later on.\n",
    "\n",
    "To calculate the F-Measure, you need to use the `fbeta_score` function from the scikit-learn package. It accepts the true labels and predicted labels. It also needs a value for the beta-factor (B). You can set this to 1 to get an equal ratio of precision and recall. Try changing it to recall (2) or precision only (0) and see what happens to the metrics of the model."
   ]
  },
  {
   "cell_type": "code",
   "execution_count": 86,
   "metadata": {},
   "outputs": [
    {
     "data": {
      "text/plain": [
       "0.9662835249042147"
      ]
     },
     "execution_count": 86,
     "metadata": {},
     "output_type": "execute_result"
    }
   ],
   "source": [
    "from sklearn.metrics import fbeta_score\n",
    "\n",
    "fbeta_score(y_true, y_pred, 1, average='macro')"
   ]
  }
 ],
 "metadata": {
  "kernelspec": {
   "display_name": "Python 3",
   "language": "python",
   "name": "python3"
  },
  "language_info": {
   "codemirror_mode": {
    "name": "ipython",
    "version": 3
   },
   "file_extension": ".py",
   "mimetype": "text/x-python",
   "name": "python",
   "nbconvert_exporter": "python",
   "pygments_lexer": "ipython3",
   "version": "3.6.7"
  }
 },
 "nbformat": 4,
 "nbformat_minor": 2
}
