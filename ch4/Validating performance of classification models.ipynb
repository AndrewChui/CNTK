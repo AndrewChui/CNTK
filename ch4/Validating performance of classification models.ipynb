{
 "cells": [
  {
   "cell_type": "markdown",
   "metadata": {},
   "source": [
    "# Validating performance of classification models\n",
    "This notebook takes you through the steps to train and evaluate a classification model using a confusion matrix and the F-Measure."
   ]
  },
  {
   "cell_type": "markdown",
   "metadata": {},
   "source": [
    "## The model\n",
    "We're using the iris flower classification model from previous chapters. \n",
    "The model has 4 input neurons and 3 output neurons. We'll be using a softmax activation on the output layer to create a classification model."
   ]
  },
  {
   "cell_type": "code",
   "execution_count": 2,
   "metadata": {},
   "outputs": [],
   "source": [
    "from cntk import default_options, input_variable\n",
    "from cntk.layers import Dense, Sequential\n",
    "from cntk.ops import log_softmax, relu, sigmoid\n",
    "\n",
    "model = Sequential([\n",
    "    Dense(4, activation=relu),\n",
    "    Dense(3, activation=log_softmax)\n",
    "])\n",
    "\n",
    "features = input_variable(4)\n",
    "labels = input_variable(3)\n",
    "\n",
    "z = model(features)"
   ]
  },
  {
   "cell_type": "markdown",
   "metadata": {},
   "source": [
    "## Data preprocessing\n",
    "We're going to use the original CSV file for the iris dataset.\n",
    "It contains four columns with features. The final column is the label (the species of the sample).\n",
    "\n",
    "The labels are stored as string and we need to have a binary encoded variant.\n",
    "So we'll use a Binarizer from scikit-learn to encode the labels in the proper format."
   ]
  },
  {
   "cell_type": "code",
   "execution_count": 3,
   "metadata": {},
   "outputs": [],
   "source": [
    "import numpy as np\n",
    "import pandas as pd\n",
    "\n",
    "from sklearn.preprocessing import LabelBinarizer\n",
    "\n",
    "df_source = pd.read_csv('iris.csv', \n",
    "    names=['sepal_length', 'sepal_width','petal_length','petal_width', 'species'], \n",
    "    index_col=False)\n",
    "\n",
    "label_encoder = LabelBinarizer()\n",
    "\n",
    "X = df_source.iloc[:, :4].values\n",
    "y = df_source.iloc[:, -1:].values\n",
    "\n",
    "y = label_encoder.fit_transform(y)\n",
    "\n",
    "X = X.astype(np.float32)\n",
    "y = y.astype(np.float32)"
   ]
  },
  {
   "cell_type": "markdown",
   "metadata": {},
   "source": [
    "## Split the dataset into a training and test set\n",
    "Before we start training, we'll split the dataset into a training and test set using the `train_test_split` function from scikit-learn. This gives us a small set of samples to later validate the model on."
   ]
  },
  {
   "cell_type": "code",
   "execution_count": 4,
   "metadata": {},
   "outputs": [],
   "source": [
    "from sklearn.model_selection import train_test_split\n",
    "\n",
    "X_train, X_test, y_train, y_test = train_test_split(X,y, test_size=0.2, stratify=y)"
   ]
  },
  {
   "cell_type": "markdown",
   "metadata": {},
   "source": [
    "## Train the model\n",
    "Now that we have a dataset, let's train the model with it.\n",
    "For this we define a loss and a learner. We can then use the loss to train the model."
   ]
  },
  {
   "cell_type": "code",
   "execution_count": 1,
   "metadata": {},
   "outputs": [],
   "source": [
    "import cntk\n",
    "\n",
    "@cntk.Function\n",
    "def criterion_factory(output, target):\n",
    "    loss = cntk.losses.cross_entropy_with_softmax(output, target)\n",
    "    metric = cntk.losses.fmeasure(output, target, beta=1)\n",
    "    \n",
    "    return loss, metric"
   ]
  },
  {
   "cell_type": "code",
   "execution_count": 5,
   "metadata": {},
   "outputs": [
    {
     "name": "stdout",
     "output_type": "stream",
     "text": [
      " average      since    average      since      examples\n",
      "    loss       last     metric       last              \n",
      " ------------------------------------------------------\n",
      "Learning rate per minibatch: 0.1\n",
      "     4.62       4.62      0.189      0.189            16\n",
      "     2.12      0.864      0.279      0.324            48\n",
      "      1.4      0.869      0.319      0.349           112\n",
      "    0.877      0.877      0.418      0.418            16\n",
      "    0.768      0.713      0.486       0.52            48\n",
      "    0.769      0.771       0.47      0.459           112\n",
      "    0.785      0.785      0.497      0.497            16\n",
      "    0.702       0.66       0.56      0.592            48\n",
      "    0.701      0.701      0.545      0.533           112\n",
      "    0.703      0.703      0.564      0.564            16\n",
      "    0.641       0.61      0.623      0.652            48\n",
      "    0.641      0.641      0.606      0.594           112\n",
      "    0.655      0.655      0.605      0.605            16\n",
      "    0.607      0.583       0.66      0.688            48\n",
      "    0.601      0.596      0.651      0.643           112\n",
      "     0.61       0.61      0.652      0.652            16\n",
      "     0.58      0.565      0.696      0.717            48\n",
      "    0.566      0.556      0.687      0.681           112\n",
      "    0.576      0.576      0.682      0.682            16\n",
      "    0.563      0.556       0.72      0.739            48\n",
      "    0.535      0.514      0.719      0.718           112\n",
      "    0.548      0.548      0.706      0.706            16\n",
      "    0.552      0.553      0.741      0.758            48\n",
      "    0.509      0.476      0.744      0.746           112\n",
      "    0.527      0.527      0.728      0.728            16\n",
      "     0.55      0.562      0.756       0.77            48\n",
      "    0.493      0.451      0.765      0.772           112\n",
      "    0.509      0.509      0.747      0.747            16\n",
      "    0.557      0.582      0.767      0.777            48\n",
      "    0.478      0.419      0.783      0.794           112\n",
      "    0.488      0.488      0.764      0.764            16\n",
      "    0.551      0.582      0.778      0.785            48\n",
      "    0.462      0.395      0.798      0.813           112\n",
      "    0.477      0.477      0.777      0.777            16\n",
      "    0.555      0.595      0.785      0.789            48\n",
      "    0.452      0.374      0.808      0.825           112\n",
      "    0.513      0.513      0.769      0.769            16\n",
      "    0.592      0.632      0.783       0.79            48\n",
      "    0.458      0.357      0.814      0.838           112\n",
      "    0.486      0.486      0.786      0.786            16\n",
      "    0.566      0.606      0.795        0.8            48\n",
      "     0.44      0.347      0.824      0.846           112\n",
      "     0.47       0.47      0.796      0.796            16\n",
      "    0.549      0.588      0.806      0.812            48\n",
      "    0.422      0.326      0.837      0.859           112\n"
     ]
    }
   ],
   "source": [
    "from cntk.losses import cross_entropy_with_softmax\n",
    "from cntk.learners import sgd \n",
    "from cntk.logging import ProgressPrinter\n",
    "\n",
    "progress_writer = ProgressPrinter(0)\n",
    "loss = criterion_factory(z, labels)\n",
    "learner = sgd(z.parameters, 0.1)\n",
    "\n",
    "train_summary = loss.train((X_train,y_train), \n",
    "                           parameter_learners=[learner], \n",
    "                           callbacks=[progress_writer], \n",
    "                           minibatch_size=16, max_epochs=15)"
   ]
  },
  {
   "cell_type": "markdown",
   "metadata": {},
   "source": [
    "## Validating the model\n",
    "After the model is trained, we can start the validation process. We're going to perform two kinds of validation.\n",
    "First, we'll look at a confusion matrix to understand how the model is doing on specific species of flowers. After that we'll also calculate the F-Measure."
   ]
  },
  {
   "cell_type": "markdown",
   "metadata": {},
   "source": [
    "### Using a confusion matrix\n",
    "We can use the `confusion_matrix` function from scikit-learn to create a confusion matrix. This functions needs to know the real labels for our test samples and the predicted labels for the same test samples. Both of these sets of values need to be numeric.\n",
    "\n",
    "The true labels and predicted labels are both binary encoded as is required by  our model. You can convert these binary representations into numeric values using the `argmax` function. We'll run it over all the samples to convert the one-hot vectors into their numeric version. \n",
    "\n",
    "We do the same for the predictions. We'll take the `argmax` function and pass in the output of the neural network. Notice, our neural network is a function so we can call it with the test set directly. The `y_pred` variable now contains the numeric value of the predicted classes.\n",
    "\n",
    "Once we have the true labels and the predicted labels we can calculate a confusion matrix."
   ]
  },
  {
   "cell_type": "code",
   "execution_count": 26,
   "metadata": {
    "scrolled": true
   },
   "outputs": [
    {
     "name": "stdout",
     "output_type": "stream",
     "text": [
      "[[10  0  0]\n",
      " [ 0  4  6]\n",
      " [ 0  0 10]]\n"
     ]
    }
   ],
   "source": [
    "from sklearn.metrics import confusion_matrix\n",
    "\n",
    "y_true = np.argmax(y_test, axis=1)\n",
    "y_pred = np.argmax(z(X_test), axis=1)\n",
    "\n",
    "matrix = confusion_matrix(y_true=y_true, y_pred=y_pred)\n",
    "\n",
    "print(matrix)"
   ]
  },
  {
   "cell_type": "markdown",
   "metadata": {},
   "source": [
    "We now have a bunch of numbers that don't look pretty or understandable. We need to visualize them to see what we're dealing with. The function below demonstrates how to visualize a confusion matrix using a heatmap from seaborn.\n",
    "\n",
    "**Important** Make sure you have `seaborn` installed by running `pip install seaborn` in an anaconda prompt."
   ]
  },
  {
   "cell_type": "code",
   "execution_count": 27,
   "metadata": {},
   "outputs": [
    {
     "data": {
      "image/png": "[encoded data removed]",
      "text/plain": [
       "<Figure size 432x288 with 2 Axes>"
      ]
     },
     "metadata": {
      "needs_background": "light"
     },
     "output_type": "display_data"
    }
   ],
   "source": [
    "import seaborn as sns\n",
    "import matplotlib.pyplot as plt\n",
    "\n",
    "g = sns.heatmap(matrix, \n",
    "                annot=True, \n",
    "                xticklabels=label_encoder.classes_.tolist(), \n",
    "                yticklabels=label_encoder.classes_.tolist(), \n",
    "                cmap='Blues')\n",
    "\n",
    "g.set_yticklabels(g.get_yticklabels(), rotation=0)\n",
    "\n",
    "g.set_xlabel('Predicted species')\n",
    "g.set_ylabel('Actual species')\n",
    "g.set_title('Confusion matrix for iris prediction model')\n",
    "\n",
    "plt.show()"
   ]
  },
  {
   "cell_type": "markdown",
   "metadata": {},
   "source": [
    "### Using the F-Measure function\n",
    "You will have noticed that the confusion matrix isn't too bad for this smaller model. But it's still nice to have a single performance number that we can use to compare models later on.\n",
    "\n",
    "To calculate the F-Measure, you need to use the `fmeasure` function from the losses package in CNTK. To measure the performance using this function you need to invoke it with the right settings and then use the `test` method to calculate the output."
   ]
  },
  {
   "cell_type": "code",
   "execution_count": 6,
   "metadata": {},
   "outputs": [
    {
     "data": {
      "text/plain": [
       "{'metric': 0.8220167795817057, 'samples': 30}"
      ]
     },
     "execution_count": 6,
     "metadata": {},
     "output_type": "execute_result"
    }
   ],
   "source": [
    "loss.test((X_test, y_test))"
   ]
  }
 ],
 "metadata": {
  "kernelspec": {
   "display_name": "Python 3",
   "language": "python",
   "name": "python3"
  },
  "language_info": {
   "codemirror_mode": {
    "name": "ipython",
    "version": 3
   },
   "file_extension": ".py",
   "mimetype": "text/x-python",
   "name": "python",
   "nbconvert_exporter": "python",
   "pygments_lexer": "ipython3",
   "version": "3.6.7"
  }
 },
 "nbformat": 4,
 "nbformat_minor": 2
}
