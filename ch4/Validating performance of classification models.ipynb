{
 "cells": [
  {
   "cell_type": "markdown",
   "metadata": {},
   "source": [
    "# Validating performance of classification models\n",
    "This notebook takes you through the steps to train and evaluate a classification model using a confusion matrix and the F-Measure."
   ]
  },
  {
   "cell_type": "markdown",
   "metadata": {},
   "source": [
    "## The model\n",
    "We're using the iris flower classification model from previous chapters. \n",
    "The model has 4 input neurons and 3 output neurons. We'll be using a softmax activation on the output layer to create a classification model."
   ]
  },
  {
   "cell_type": "code",
   "execution_count": 10,
   "metadata": {},
   "outputs": [],
   "source": [
    "from cntk import default_options, input_variable\n",
    "from cntk.layers import Dense, Sequential\n",
    "from cntk.ops import log_softmax, relu, sigmoid\n",
    "\n",
    "model = Sequential([\n",
    "    Dense(4, activation=relu),\n",
    "    Dense(3, activation=log_softmax)\n",
    "])\n",
    "\n",
    "features = input_variable(4)\n",
    "labels = input_variable(3)\n",
    "\n",
    "z = model(features)"
   ]
  },
  {
   "cell_type": "markdown",
   "metadata": {},
   "source": [
    "## Data preprocessing\n",
    "We're going to use the original CSV file for the iris dataset.\n",
    "It contains four columns with features. The final column is the label (the species of the sample).\n",
    "\n",
    "The labels are stored as string and we need to have a binary encoded variant.\n",
    "So we'll use a Binarizer from scikit-learn to encode the labels in the proper format."
   ]
  },
  {
   "cell_type": "code",
   "execution_count": 11,
   "metadata": {},
   "outputs": [],
   "source": [
    "import numpy as np\n",
    "import pandas as pd\n",
    "\n",
    "from sklearn.preprocessing import LabelBinarizer\n",
    "\n",
    "df_source = pd.read_csv('iris.csv', \n",
    "    names=['sepal_length', 'sepal_width','petal_length','petal_width', 'species'], \n",
    "    index_col=False)\n",
    "\n",
    "label_encoder = LabelBinarizer()\n",
    "\n",
    "X = df_source.iloc[:, :4].values\n",
    "y = df_source.iloc[:, -1:].values\n",
    "\n",
    "y = label_encoder.fit_transform(y)\n",
    "\n",
    "X = X.astype(np.float32)\n",
    "y = y.astype(np.float32)"
   ]
  },
  {
   "cell_type": "markdown",
   "metadata": {},
   "source": [
    "## Split the dataset into a training and test set\n",
    "Before we start training, we'll split the dataset into a training and test set using the `train_test_split` function from scikit-learn. This gives us a small set of samples to later validate the model on."
   ]
  },
  {
   "cell_type": "code",
   "execution_count": 12,
   "metadata": {},
   "outputs": [],
   "source": [
    "from sklearn.model_selection import train_test_split\n",
    "\n",
    "X_train, X_test, y_train, y_test = train_test_split(X,y, test_size=0.2, stratify=y)"
   ]
  },
  {
   "cell_type": "markdown",
   "metadata": {},
   "source": [
    "## Train the model\n",
    "Now that we have a dataset, let's train the model with it.\n",
    "For this we define a loss and a learner. We can then use the loss to train the model."
   ]
  },
  {
   "cell_type": "code",
   "execution_count": 13,
   "metadata": {},
   "outputs": [],
   "source": [
    "import cntk\n",
    "\n",
    "@cntk.Function\n",
    "def criterion_factory(output, target):\n",
    "    loss = cntk.losses.cross_entropy_with_softmax(output, target)\n",
    "    metric = cntk.losses.fmeasure(output, target, beta=1)\n",
    "    \n",
    "    return loss, metric"
   ]
  },
  {
   "cell_type": "code",
   "execution_count": 14,
   "metadata": {},
   "outputs": [
    {
     "name": "stdout",
     "output_type": "stream",
     "text": [
      " average      since    average      since      examples\n",
      "    loss       last     metric       last              \n",
      " ------------------------------------------------------\n",
      "Learning rate per minibatch: 0.1\n",
      "     1.57       1.57    -0.0336    -0.0336            16\n",
      "     1.17       0.97      0.133      0.216            48\n",
      "        1       0.88      0.223      0.291           112\n",
      "    0.862      0.862      0.288      0.288            16\n",
      "    0.804      0.776      0.348      0.379            48\n",
      "    0.803      0.802      0.346      0.344           112\n",
      "    0.927      0.927       0.22       0.22            16\n",
      "        1       1.04      0.143      0.105            48\n",
      "    0.854      0.742      0.284       0.39           112\n",
      "    0.811      0.811      0.315      0.315            16\n",
      "    0.781      0.765      0.362      0.386            48\n",
      "    0.736      0.702      0.398      0.424           112\n",
      "    0.711      0.711      0.412      0.412            16\n",
      "    0.651      0.621      0.469      0.498            48\n",
      "    0.662       0.67      0.461      0.454           112\n",
      "    0.683      0.683      0.446      0.446            16\n",
      "    0.626      0.597      0.499      0.526            48\n",
      "    0.637      0.645      0.491      0.484           112\n",
      "    0.663      0.663      0.474      0.474            16\n",
      "    0.605      0.576      0.524      0.549            48\n",
      "    0.616      0.624      0.518      0.513           112\n",
      "    0.648      0.648      0.497      0.497            16\n",
      "    0.589      0.559      0.547      0.572            48\n",
      "    0.599      0.607       0.54      0.536           112\n",
      "    0.636      0.636      0.517      0.517            16\n",
      "    0.577      0.547      0.565      0.589            48\n",
      "    0.588      0.596      0.557      0.551           112\n",
      "    0.625      0.625      0.535      0.535            16\n",
      "    0.566      0.536      0.582      0.606            48\n",
      "    0.577      0.585      0.574      0.568           112\n",
      "    0.616      0.616      0.551      0.551            16\n",
      "    0.557      0.527      0.597       0.62            48\n",
      "    0.567      0.575      0.589      0.584           112\n",
      "    0.609      0.609      0.565      0.565            16\n",
      "    0.549       0.52       0.61      0.632            48\n",
      "    0.559      0.566      0.603      0.598           112\n",
      "    0.602      0.602      0.577      0.577            16\n",
      "    0.543      0.514      0.621      0.643            48\n",
      "    0.552      0.559      0.615       0.61           112\n",
      "    0.597      0.597      0.588      0.588            16\n",
      "    0.538      0.508      0.631      0.653            48\n",
      "    0.546      0.552      0.626      0.621           112\n",
      "    0.592      0.592      0.599      0.599            16\n",
      "    0.533      0.503      0.641      0.662            48\n",
      "    0.541      0.546      0.635      0.632           112\n"
     ]
    }
   ],
   "source": [
    "from cntk.losses import cross_entropy_with_softmax\n",
    "from cntk.learners import sgd \n",
    "from cntk.logging import ProgressPrinter\n",
    "\n",
    "progress_writer = ProgressPrinter(0)\n",
    "loss = criterion_factory(z, labels)\n",
    "learner = sgd(z.parameters, 0.1)\n",
    "\n",
    "train_summary = loss.train((X_train,y_train), \n",
    "                           parameter_learners=[learner], \n",
    "                           callbacks=[progress_writer], \n",
    "                           minibatch_size=16, max_epochs=15)"
   ]
  },
  {
   "cell_type": "markdown",
   "metadata": {},
   "source": [
    "## Validating the model\n",
    "After the model is trained, we can start the validation process. We're going to perform two kinds of validation.\n",
    "First, we'll look at a confusion matrix to understand how the model is doing on specific species of flowers. After that we'll also calculate the F-Measure."
   ]
  },
  {
   "cell_type": "markdown",
   "metadata": {},
   "source": [
    "### Using a confusion matrix\n",
    "We can use the `confusion_matrix` function from scikit-learn to create a confusion matrix. This functions needs to know the real labels for our test samples and the predicted labels for the same test samples. Both of these sets of values need to be numeric.\n",
    "\n",
    "The true labels and predicted labels are both binary encoded as is required by  our model. You can convert these binary representations into numeric values using the `argmax` function. We'll run it over all the samples to convert the one-hot vectors into their numeric version. \n",
    "\n",
    "We do the same for the predictions. We'll take the `argmax` function and pass in the output of the neural network. Notice, our neural network is a function so we can call it with the test set directly. The `y_pred` variable now contains the numeric value of the predicted classes.\n",
    "\n",
    "Once we have the true labels and the predicted labels we can calculate a confusion matrix."
   ]
  },
  {
   "cell_type": "code",
   "execution_count": 15,
   "metadata": {
    "scrolled": true
   },
   "outputs": [
    {
     "name": "stdout",
     "output_type": "stream",
     "text": [
      "[[10  0  0]\n",
      " [ 0  9  1]\n",
      " [ 0 10  0]]\n"
     ]
    }
   ],
   "source": [
    "from sklearn.metrics import confusion_matrix\n",
    "\n",
    "y_true = np.argmax(y_test, axis=1)\n",
    "y_pred = np.argmax(z(X_test), axis=1)\n",
    "\n",
    "matrix = confusion_matrix(y_true=y_true, y_pred=y_pred)\n",
    "\n",
    "print(matrix)"
   ]
  },
  {
   "cell_type": "markdown",
   "metadata": {},
   "source": [
    "We now have a bunch of numbers that don't look pretty or understandable. We need to visualize them to see what we're dealing with. The function below demonstrates how to visualize a confusion matrix using a heatmap from seaborn.\n",
    "\n",
    "**Important** Make sure you have `seaborn` installed by running `pip install seaborn` in an anaconda prompt."
   ]
  },
  {
   "cell_type": "code",
   "execution_count": 16,
   "metadata": {},
   "outputs": [
    {
     "data": {
      "image/png": "[encoded data removed]",
      "text/plain": [
       "<Figure size 432x288 with 2 Axes>"
      ]
     },
     "metadata": {
      "needs_background": "light"
     },
     "output_type": "display_data"
    }
   ],
   "source": [
    "import seaborn as sns\n",
    "import matplotlib.pyplot as plt\n",
    "\n",
    "g = sns.heatmap(matrix, \n",
    "                annot=True, \n",
    "                xticklabels=label_encoder.classes_.tolist(), \n",
    "                yticklabels=label_encoder.classes_.tolist(), \n",
    "                cmap='Blues')\n",
    "\n",
    "g.set_yticklabels(g.get_yticklabels(), rotation=0)\n",
    "\n",
    "g.set_xlabel('Predicted species')\n",
    "g.set_ylabel('Actual species')\n",
    "g.set_title('Confusion matrix for iris prediction model')\n",
    "\n",
    "plt.show()"
   ]
  },
  {
   "cell_type": "markdown",
   "metadata": {},
   "source": [
    "### Using the F-Measure function\n",
    "You will have noticed that the confusion matrix isn't too bad for this smaller model. But it's still nice to have a single performance number that we can use to compare models later on.\n",
    "\n",
    "To calculate the F-Measure, you need to use the `fmeasure` function from the losses package in CNTK. To measure the performance using this function you need to invoke it with the right settings and then use the `test` method to calculate the output."
   ]
  },
  {
   "cell_type": "code",
   "execution_count": 9,
   "metadata": {},
   "outputs": [
    {
     "data": {
      "text/plain": [
       "{'metric': 0.8344443003336589, 'samples': 30}"
      ]
     },
     "execution_count": 9,
     "metadata": {},
     "output_type": "execute_result"
    }
   ],
   "source": [
    "loss.test([X_test, y_test])"
   ]
  }
 ],
 "metadata": {
  "kernelspec": {
   "display_name": "Python 3",
   "language": "python",
   "name": "python3"
  },
  "language_info": {
   "codemirror_mode": {
    "name": "ipython",
    "version": 3
   },
   "file_extension": ".py",
   "mimetype": "text/x-python",
   "name": "python",
   "nbconvert_exporter": "python",
   "pygments_lexer": "ipython3",
   "version": "3.6.7"
  }
 },
 "nbformat": 4,
 "nbformat_minor": 2
}
